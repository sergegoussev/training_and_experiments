{
 "cells": [
  {
   "cell_type": "markdown",
   "metadata": {},
   "source": [
    "# Experiment on how to extract structured text from a pdf\n",
    "\n",
    "For price statistics, there is a specific problem - the COICOP18 categories that are used for the CPI are not easily available in easy readable format in multiple languages. Specifically:\n",
    "* UNSD makes the [english version available in pdf](https://unstats.un.org/unsd/classifications/unsdclassifications/COICOP_2018_-_pre-edited_white_cover_version_-_2018-12-26.pdf), and so does the [2020 CPI Manual](https://www.imf.org/-/media/Files/Data/CPI/cpi-manual-concepts-and-methods.ashx). \n",
    "  * Statistics New Zealand however makes [COICOP18 availible in their Aria tool](https://aria.stats.govt.nz/aria/#ClassificationView:uri=http://stats.govt.nz/cms/ClassificationVersion/hTe8vaVj73ScFSJe)\n",
    "* The Russian version however is only available in full in the [2020 Russian version of the CPI Manual](https://www.imf.org/-/media/Files/Data/CPI/cpi-manual-concepts-and-methods-russian.ashx).\n",
    "\n",
    "Hence the task to solve is how to extract this in structured format\n",
    "\n",
    "-----------------------"
   ]
  },
  {
   "cell_type": "markdown",
   "metadata": {},
   "source": [
    "## Try the [PyMuPDF](https://pymupdf.readthedocs.io/en/latest/) library"
   ]
  },
  {
   "cell_type": "code",
   "execution_count": 33,
   "metadata": {},
   "outputs": [],
   "source": [
    "import pymupdf\n",
    "\n",
    "from multi_column import column_boxes\n"
   ]
  },
  {
   "cell_type": "markdown",
   "metadata": {},
   "source": [
    "Download the [Russian version of the CPI manual](https://www.imf.org/-/media/Files/Data/CPI/cpi-manual-concepts-and-methods-russian.ashx) manually and add it to `data/raw/` folder. Pages 437-510 in the pdf are the CPICOM."
   ]
  },
  {
   "cell_type": "code",
   "execution_count": 39,
   "metadata": {},
   "outputs": [
    {
     "name": "stdout",
     "output_type": "stream",
     "text": [
      "Приложение 3\n",
      "Классификация \n",
      "индивидуального \n",
      "потребления по целям \n",
      "2018 года (КИПЦ 2018 года)1\n",
      "Введение\n",
      "Классификация индивидуального потребления по целям \n",
      "(КИПЦ) используется в качестве международной справочной \n",
      "классификации расходов домашних хозяйств. КИПЦ обеспе-\n",
      "чивает систему однородных категорий товаров и услуг, которые \n",
      "считаются назначением или целью расходов домашних хозяйств \n",
      "на потребление. КИПЦ является неотъемлемой частью системы \n",
      "национальных счетов (СНС), но также используется в ряде дру-\n",
      "гих областей статистики, например, обследовании бюджетов до-\n",
      "машних хозяйств или индексе потребительских цен.\n",
      "В настоящем приложении представлены описания и объяс-\n",
      "нения пересмотра КИПЦ, утвержденного в 2018 году (КИПЦ \n",
      "2018  года) на 49-ой сессии Статистической комиссии ООН. \n",
      "В КИПЦ 2018 года представлено больше деталей, чем в прош­\n",
      "лой версии (КИПЦ 1999 года), в связи с потребностью пользо-\n",
      "вателей в более подробной информации, а также рассмотрен \n",
      "ряд других вопросов, которые привели к пересмотру классифи-\n",
      "кации. В КИПЦ 2018 года отражены значительные изменения \n",
      "товаров и услуг в некоторых областях, улучшена связь КИПЦ \n",
      "с другими классификациями, а также удовлетворены возника-\n",
      "ющие статистические потребности и потребности экономичес­\n",
      "кой политики ряда международных организаций.\n",
      "КИПЦ: разбивка расходов \n",
      "на личное потребление домашних \n",
      "хозяйств по разделам и группам\n",
      "01 Продукты питания и безалкогольные напитки\n",
      "Подраздел 01 охватывает продукты питания и безалкогольные \n",
      "напитки, приобретаемые домашним хозяйством в основном \n",
      "для потребления или приготовления дома. В него не входят \n",
      "продукты питания и безалкогольные напитки, предоставля-\n",
      "емые в рамках услуг общественного питания (подраздел 11).\n",
      "Услуги по переработке пищевых продуктов для личного \n",
      "потребления также входят в этот раздел.\n",
      "Продукты питания состоят из всех съедобных товаров, \n",
      "которые приобретаются и потребляются домашним хозяй-\n",
      "ством для целей питания. К ним относятся хлебобулочные \n",
      "изделия и крупы; мясо; рыба и другие морепродукты; молоко, \n",
      "другие молочные продукты и яйца; масла и жиры; фрукты \n",
      "и орехи; овощи, корнеплоды, плантаны, бананы и бобовые; \n",
      "сахар, кондитерские изделия и десерты; соль, соусы и при-\n",
      "правы, пряности и кулинарные травы; семена.\n",
      "Подраздел 01 также включает готовые продукты питания, \n",
      "которые могут потребляться в пищу в холодном или разогре-\n",
      "1На момент подготовки настоящего проекта работа над КИПЦ 2018 года еще не \n",
      "была завершена. Ожидается внесение лишь незначительных поправок, однако \n",
      "возможны дополнительные изменения.\n",
      "\n",
      "том виде. К безалкогольным напиткам относятся напитки, \n",
      "которые не содержат алкоголь.\n",
      "01.1 Продукты питания\n",
      "Продукты питания, приобретаемые домашним хозяйством \n",
      "в основном для потребления или приготовления дома. В их \n",
      "состав не входят продукты питания, предоставляемые в рам-\n",
      "ках услуг общественного питания.\n",
      "Продукты питания состоят из всех съедобных товаров, \n",
      "которые приобретаются и потребляются домашним хозяй-\n",
      "ством для целей питания. К ним относятся крупы и крупяные \n",
      "изделия; мясо; рыба и другие морепродукты; молоко, другие \n",
      "молочные продукты и яйца; масла и жиры; фрукты и орехи; \n",
      "овощи, корнеплоды, плантаны, бананы и бобовые; сахар, кон-\n",
      "дитерские изделия и десерты; соль, соусы и приправы, пряно-\n",
      "сти и кулинарные травы; семена.\n",
      "Включается:\n",
      "•\t Продукты, которые нуждаются в приготовлении и даль-\n",
      "нейшей обработке, а также готовые продукты питания\n",
      "Не включается:\n",
      "•\t Услуги по местной доставке продуктов питания и напит-\n",
      "ков, если оплачиваются отдельно (07.4.9.2)\n",
      "•\t Корм для животных (09.3.2.2)\n",
      "•\t Продукты питания, предоставляемые в рамках услуг \n",
      "общественного питания (раздел 11)\n",
      "01.1.1 Крупы и крупяные изделия (ND)\n",
      "01.1.1.1 Крупы (ND)\n",
      "Сухие зерна круп, прошедшие предварительную обработку \n",
      "или нет, но не подвергшиеся дальнейшей переработке.\n",
      "Включается:\n",
      "•\t Пшеница\n",
      "•\t Рис, в том числе пропаренный рис\n",
      "•\t Сорго\n",
      "•\t Ячмень\n",
      "•\t Пшено\n",
      "•\t Киноа\n",
      "•\t Кукуруза\n",
      "•\t Прочие крупы\n",
      "Также включается:\n",
      "•\t Теф\n",
      "•\t Рожь\n",
      "•\t Овес\n",
      "•\t Тритикале\n",
      "•\t Гречневая крупа\n",
      "•\t Канареечное семя\n",
      "•\t Кивича или амарант\n",
      "•\t Канива или канихуа\n",
      "•\t Алдай или Иовы слезы\n",
      "•\t Смешанные крупы в виде сухих зерен, не подвергшихся \n",
      "дальнейшей обработке\n",
      "\n",
      "--------------------------------------------------------------------------------\n"
     ]
    }
   ],
   "source": [
    "# As 437 - 510 are the pages and if we start counting at 0, 436-509\n",
    "doc = pymupdf.open('../data/bronze/cpi-manual-concepts-and-methods-russian.pdf') # open a document\n",
    "for i, page in enumerate(doc): # iterate the document pages\n",
    "#   text = page.get_text(\"json\")\n",
    "  if i > 435:\n",
    "    bboxes = column_boxes(page, footer_margin=50, no_image_text=True)\n",
    "    for rect in bboxes:\n",
    "        print(page.get_text(clip=rect, sort=True))\n",
    "    print(\"-\" * 80)\n",
    "\n",
    "    break"
   ]
  },
  {
   "cell_type": "code",
   "execution_count": 32,
   "metadata": {},
   "outputs": [
    {
     "data": {
      "text/plain": [
       "'<div id=\"page0\" style=\"width:612.0pt;height:792.0pt\">\\n<p style=\"top:747.3pt;left:47.5pt;line-height:12.0pt\"><b><span style=\"font-family:Arial,serif;font-size:12.0pt\">418</span></b></p>\\n<p style=\"top:34.4pt;left:47.5pt;line-height:8.0pt\"><span style=\"font-family:Arial,serif;font-size:8.0pt\">&#x41f;&#x420;&#x418;&#x41b;&#x41e;&#x416;&#x415;&#x41d;&#x418;&#x415;</span></p>\\n<p style=\"top:55.0pt;left:298.5pt;line-height:12.8pt\"><span style=\"font-family:MinionPro,serif;font-size:12.8pt\">&#x2022;&#x9;</span><span style=\"font-family:MinionPro,serif;font-size:9.8pt\"> &#x41d;&#x435;&#x43f;&#x440;&#x438;&#x433;&#x43e;&#x442;&#x43e;&#x432;&#x43b;&#x435;&#x43d;&#x43d;&#x44b;&#x435; &#x43f;&#x435;&#x43b;&#x44c;&#x43c;&#x435;&#x43d;&#x438;, &#x440;&#x430;&#x432;&#x438;&#x43e;&#x43b;&#x438; &#x438; &#x430;&#x43d;&#x430;&#x43b;&#x43e;&#x433;&#x438;&#x447;&#x43d;&#x44b;&#x435; </span></p>\\n<p style=\"top:69.4pt;left:308.5pt;line-height:9.8pt\"><span style=\"font-family:MinionPro,serif;font-size:9.8pt\">&#x438;&#x437;&#x434;&#x435;&#x43b;&#x438;&#x44f;</span></p>\\n<p style=\"top:79.5pt;left:298.5pt;line-height:12.8pt\"><span style=\"font-family:MinionPro,serif;font-size:12.8pt\">&#x2022;&#x9;</span><span style=\"font-family:MinionPro,serif;font-size:9.8pt\"> &#x411;&#x443;&#x43b;&#x433;&#x443;&#x440;</span></p>\\n<p style=\"top:99.4pt;left:298.5pt;line-height:9.8pt\"><i><span style=\"font-family:MinionPro,serif;font-size:9.8pt\">&#x41d;&#x435; &#x432;&#x43a;&#x43b;&#x44e;&#x447;&#x430;&#x435;&#x442;&#x441;&#x44f;:</span></i></p>\\n<p style=\"top:114.5pt;left:298.5pt;line-height:12.8pt\"><span style=\"font-family:MinionPro,serif;font-size:12.8pt\">&#x2022;&#x9;</span><i><span style=\"font-family:MinionPro,serif;font-size:9.8pt\"> &#x413;&#x43e;&#x442;&#x43e;&#x432;&#x44b;&#x435; &#x431;&#x43b;&#x44e;&#x434;&#x430;, &#x441;&#x43e;&#x434;&#x435;&#x440;&#x436;&#x430;&#x449;&#x438;&#x435; &#x43c;&#x430;&#x43a;&#x430;&#x440;&#x43e;&#x43d;&#x43d;&#x44b;&#x435; &#x438;&#x437;&#x434;&#x435;&#x43b;&#x438;&#x44f; &#x441; &#x43d;&#x430;&#x447;&#x438;&#x43d;-</span></i></p>\\n<p style=\"top:128.9pt;left:308.5pt;line-height:9.8pt\"><i><span style=\"font-family:MinionPro,serif;font-size:9.8pt\">&#x43a;&#x43e;&#x439;; &#x433;&#x43e;&#x442;&#x43e;&#x432;&#x44b;&#x435; &#x431;&#x43b;&#x44e;&#x434;&#x430; &#x441; &#x43a;&#x443;&#x441;&#x43a;&#x443;&#x441;&#x43e;&#x43c; (01.1.9.1)</span></i></p>\\n<p style=\"top:149.7pt;left:298.5pt;line-height:8.9pt\"><b><i><span style=\"font-family:Arial,serif;font-size:8.9pt\">01.1.1.9 &#x414;&#x440;&#x443;&#x433;&#x438;&#x435; &#x438;&#x437;&#x434;&#x435;&#x43b;&#x438;&#x44f; &#x438;&#x445; &#x43a;&#x440;&#x443;&#x43f; &#x438; &#x43f;&#x440;&#x43e;&#x434;&#x443;&#x43a;&#x446;&#x438;&#x44f; </span></i></b></p>\\n<p style=\"top:160.7pt;left:298.5pt;line-height:8.9pt\"><b><i><span style=\"font-family:Arial,serif;font-size:8.9pt\">&#x43c;&#x443;&#x43a;&#x43e;&#x43c;&#x43e;&#x43b;&#x44c;&#x43d;&#x43e;&#x439; &#x43f;&#x440;&#x43e;&#x43c;&#x44b;&#x448;&#x43b;&#x435;&#x43d;&#x43d;&#x43e;&#x441;&#x442;&#x438; (ND)</span></i></b></p>\\n<p style=\"top:176.4pt;left:298.5pt;line-height:9.8pt\"><span style=\"font-family:MinionPro,serif;font-size:9.8pt\">&#x412;&#x43a;&#x43b;&#x44e;&#x447;&#x430;&#x435;&#x442;&#x441;&#x44f;:</span></p>\\n<p style=\"top:192.0pt;left:298.5pt;line-height:12.8pt\"><span style=\"font-family:MinionPro,serif;font-size:12.8pt\">&#x2022;&#x9;</span><span style=\"font-family:MinionPro,serif;font-size:9.8pt\"> &#x421;&#x43c;&#x435;&#x441;&#x438; &#x438; &#x442;&#x435;&#x441;&#x442;&#x43e; &#x434;&#x43b;&#x44f; &#x43f;&#x440;&#x438;&#x433;&#x43e;&#x442;&#x43e;&#x432;&#x43b;&#x435;&#x43d;&#x438;&#x44f; &#x43c;&#x443;&#x447;&#x43d;&#x44b;&#x445; &#x43a;&#x43e;&#x43d;&#x434;&#x438;&#x442;&#x435;&#x440;&#x441;&#x43a;&#x438;&#x445; </span></p>\\n<p style=\"top:206.4pt;left:308.5pt;line-height:9.8pt\"><span style=\"font-family:MinionPro,serif;font-size:9.8pt\">&#x438;&#x437;&#x434;&#x435;&#x43b;&#x438;&#x439;</span></p>\\n<p style=\"top:216.5pt;left:298.5pt;line-height:12.8pt\"><span style=\"font-family:MinionPro,serif;font-size:12.8pt\">&#x2022;&#x9;</span><span style=\"font-family:MinionPro,serif;font-size:9.8pt\"> &#x41f;&#x43e;&#x43f;&#x43a;&#x43e;&#x440;&#x43d;</span></p>\\n<p style=\"top:230.0pt;left:298.5pt;line-height:12.8pt\"><span style=\"font-family:MinionPro,serif;font-size:12.8pt\">&#x2022;&#x9;</span><span style=\"font-family:MinionPro,serif;font-size:9.8pt\"> &#x417;&#x43b;&#x430;&#x43a;&#x43e;&#x432;&#x44b;&#x435; &#x431;&#x430;&#x442;&#x43e;&#x43d;&#x447;&#x438;&#x43a;&#x438;</span></p>\\n<p style=\"top:243.5pt;left:298.5pt;line-height:12.8pt\"><span style=\"font-family:MinionPro,serif;font-size:12.8pt\">&#x2022;&#x9;</span><span style=\"font-family:MinionPro,serif;font-size:9.8pt\"> &#x421;&#x43e;&#x43b;&#x43e;&#x434;; &#x441;&#x43e;&#x43b;&#x43e;&#x434;&#x43e;&#x432;&#x44b;&#x439; &#x44d;&#x43a;&#x441;&#x442;&#x440;&#x430;&#x43a;&#x442;</span></p>\\n<p style=\"top:257.0pt;left:298.5pt;line-height:12.8pt\"><span style=\"font-family:MinionPro,serif;font-size:12.8pt\">&#x2022;&#x9;</span><span style=\"font-family:MinionPro,serif;font-size:9.8pt\"> &#x417;&#x43b;&#x430;&#x43a;&#x43e;&#x432;&#x44b;&#x435; &#x447;&#x438;&#x43f;&#x441;&#x44b;</span></p>\\n<p style=\"top:276.9pt;left:298.5pt;line-height:9.8pt\"><span style=\"font-family:MinionPro,serif;font-size:9.8pt\">&#x422;&#x430;&#x43a;&#x436;&#x435; &#x432;&#x43a;&#x43b;&#x44e;&#x447;&#x430;&#x435;&#x442;&#x441;&#x44f;:</span></p>\\n<p style=\"top:292.5pt;left:298.5pt;line-height:12.8pt\"><span style=\"font-family:MinionPro,serif;font-size:12.8pt\">&#x2022;&#x9;</span><span style=\"font-family:MinionPro,serif;font-size:9.8pt\"> &#x421;&#x435;&#x439;&#x442;&#x430;&#x43d; &#x438; &#x434;&#x440;&#x443;&#x433;&#x438;&#x435; &#x437;&#x430;&#x43c;&#x435;&#x43d;&#x438;&#x442;&#x435;&#x43b;&#x438; &#x43c;&#x44f;&#x441;&#x430;, &#x438;&#x437;&#x433;&#x43e;&#x442;&#x43e;&#x432;&#x43b;&#x435;&#x43d;&#x43d;&#x44b;&#x435; &#x438;&#x437; &#x43a;&#x440;&#x443;&#x43f;</span></p>\\n<p style=\"top:312.4pt;left:298.5pt;line-height:9.8pt\"><i><span style=\"font-family:MinionPro,serif;font-size:9.8pt\">&#x41d;&#x435; &#x432;&#x43a;&#x43b;&#x44e;&#x447;&#x430;&#x435;&#x442;&#x441;&#x44f;:</span></i></p>\\n<p style=\"top:328.0pt;left:298.5pt;line-height:12.8pt\"><span style=\"font-family:MinionPro,serif;font-size:12.8pt\">&#x2022;&#x9;</span><i><span style=\"font-family:MinionPro,serif;font-size:9.8pt\"> &#x421;&#x43e;&#x435;&#x432;&#x43e;&#x435; &#x43c;&#x44f;&#x441;&#x43e; &#x438; &#x431;&#x443;&#x440;&#x433;&#x435;&#x440;&#x44b;, &#x432;&#x435;&#x433;&#x435;&#x442;&#x430;&#x440;&#x438;&#x430;&#x43d;&#x441;&#x43a;&#x438;&#x435; &#x431;&#x443;&#x440;&#x433;&#x435;&#x440;&#x44b;, &#x442;&#x43e;&#x444;&#x443;, </span></i></p>\\n<p style=\"top:342.4pt;left:308.5pt;line-height:9.8pt\"><i><span style=\"font-family:MinionPro,serif;font-size:9.8pt\">&#x442;&#x435;&#x43c;&#x43f;&#x435; &#x438; &#x434;&#x440;&#x443;&#x433;&#x438;&#x435; &#x437;&#x430;&#x43c;&#x435;&#x43d;&#x438;&#x442;&#x435;&#x43b;&#x438; &#x43c;&#x44f;&#x441;&#x430;, &#x438;&#x437;&#x433;&#x43e;&#x442;&#x43e;&#x432;&#x43b;&#x435;&#x43d;&#x43d;&#x44b;&#x435; &#x438;&#x437; &#x43e;&#x432;&#x43e;&#x449;&#x435;&#x439; </span></i></p>\\n<p style=\"top:353.4pt;left:308.5pt;line-height:9.8pt\"><i><span style=\"font-family:MinionPro,serif;font-size:9.8pt\">&#x438; &#x43e;&#x440;&#x435;&#x445;&#x43e;&#x432;; &#x43a;&#x430;&#x440;&#x442;&#x43e;&#x444;&#x435;&#x43b;&#x44c;&#x43d;&#x44b;&#x439; &#x43a;&#x440;&#x430;&#x445;&#x43c;&#x430;&#x43b;, &#x442;&#x430;&#x43f;&#x438;&#x43e;&#x43a;&#x430;, &#x441;&#x430;&#x433;&#x43e; &#x438; &#x434;&#x440;&#x443;&#x433;&#x438;&#x435; </span></i></p>\\n<p style=\"top:364.4pt;left:308.5pt;line-height:9.8pt\"><i><span style=\"font-family:MinionPro,serif;font-size:9.8pt\">&#x432;&#x438;&#x434;&#x44b; &#x43a;&#x440;&#x430;&#x445;&#x43c;&#x430;&#x43b;&#x430; (01.1.7.9)</span></i></p>\\n<p style=\"top:374.5pt;left:298.5pt;line-height:12.8pt\"><span style=\"font-family:MinionPro,serif;font-size:12.8pt\">&#x2022;&#x9;</span><i><span style=\"font-family:MinionPro,serif;font-size:9.8pt\"> &#x413;&#x43e;&#x442;&#x43e;&#x432;&#x44b;&#x435; &#x43a; &#x43f;&#x440;&#x438;&#x433;&#x43e;&#x442;&#x43e;&#x432;&#x43b;&#x435;&#x43d;&#x438;&#x44e; &#x43f;&#x440;&#x43e;&#x434;&#x443;&#x43a;&#x442;&#x44b; &#x43d;&#x430; &#x43e;&#x441;&#x43d;&#x43e;&#x432;&#x435; &#x43a;&#x440;&#x443;&#x43f;, &#x43d;&#x430;&#x43f;&#x440;&#x438;-</span></i></p>\\n<p style=\"top:388.9pt;left:308.5pt;line-height:9.8pt\"><i><span style=\"font-family:MinionPro,serif;font-size:9.8pt\">&#x43c;&#x435;&#x440;, &#x433;&#x43e;&#x442;&#x43e;&#x432;&#x44b;&#x435; &#x441;&#x443;&#x43f;&#x44b; &#x43d;&#x430; &#x43e;&#x441;&#x43d;&#x43e;&#x432;&#x435; &#x43a;&#x440;&#x443;&#x43f; (01.1.9.1)</span></i></p>\\n<p style=\"top:411.7pt;left:298.5pt;line-height:8.9pt\"><b><span style=\"font-family:Arial,serif;font-size:8.9pt\">01.1.2 &#x416;&#x438;&#x432;&#x43e;&#x439; &#x441;&#x43a;&#x43e;&#x442;, &#x43c;&#x44f;&#x441;&#x43e; &#x438; &#x434;&#x440;&#x443;&#x433;&#x438;&#x435; &#x447;&#x430;&#x441;&#x442;&#x438; &#x437;&#x430;&#x431;&#x438;&#x442;&#x44b;&#x445; </span></b></p>\\n<p style=\"top:422.7pt;left:298.5pt;line-height:8.9pt\"><b><span style=\"font-family:Arial,serif;font-size:8.9pt\">&#x43d;&#x430;&#x437;&#x435;&#x43c;&#x43d;&#x44b;&#x445; &#x436;&#x438;&#x432;&#x43e;&#x442;&#x43d;&#x44b;&#x445; (ND)</span></b></p>\\n<p style=\"top:442.7pt;left:298.5pt;line-height:8.9pt\"><b><i><span style=\"font-family:Arial,serif;font-size:8.9pt\">01.1.2.1 &#x416;&#x438;&#x432;&#x44b;&#x435; &#x43d;&#x430;&#x437;&#x435;&#x43c;&#x43d;&#x44b;&#x435; &#x436;&#x438;&#x432;&#x43e;&#x442;&#x43d;&#x44b;&#x435; (ND)</span></i></b></p>\\n<p style=\"top:455.9pt;left:298.5pt;line-height:9.8pt\"><span style=\"font-family:MinionPro,serif;font-size:9.8pt\">&#x416;&#x438;&#x432;&#x44b;&#x435; &#x43d;&#x430;&#x437;&#x435;&#x43c;&#x43d;&#x44b;&#x435; &#x436;&#x438;&#x432;&#x43e;&#x442;&#x43d;&#x44b;&#x435; (&#x434;&#x43e;&#x43c;&#x430;&#x448;&#x43d;&#x438;&#x435; &#x438; &#x434;&#x438;&#x43a;&#x438;&#x435;) &#x434;&#x43b;&#x44f; &#x446;&#x435;&#x43b;&#x435;&#x439; </span></p>\\n<p style=\"top:466.9pt;left:298.5pt;line-height:9.8pt\"><span style=\"font-family:MinionPro,serif;font-size:9.8pt\">&#x443;&#x43f;&#x43e;&#x442;&#x440;&#x435;&#x431;&#x43b;&#x435;&#x43d;&#x438;&#x44f; &#x432; &#x43f;&#x438;&#x449;&#x443;.</span></p>\\n<p style=\"top:483.4pt;left:298.5pt;line-height:9.8pt\"><span style=\"font-family:MinionPro,serif;font-size:9.8pt\">&#x412;&#x43a;&#x43b;&#x44e;&#x447;&#x430;&#x435;&#x442;&#x441;&#x44f;:</span></p>\\n<p style=\"top:498.5pt;left:298.5pt;line-height:12.8pt\"><span style=\"font-family:MinionPro,serif;font-size:12.8pt\">&#x2022;&#x9;</span><span style=\"font-family:MinionPro,serif;font-size:9.8pt\"> &#x41a;&#x440;&#x443;&#x43f;&#x43d;&#x44b;&#x439; &#x440;&#x43e;&#x433;&#x430;&#x442;&#x44b;&#x439; &#x441;&#x43a;&#x43e;&#x442; (&#x43a;&#x43e;&#x440;&#x43e;&#x432;&#x430;, &#x442;&#x435;&#x43b;&#x435;&#x43d;&#x43e;&#x43a;, &#x437;&#x435;&#x431;&#x443; &#x438;&#x43b;&#x438; &#x433;&#x43e;&#x440;&#x431;&#x430;-</span></p>\\n<p style=\"top:512.9pt;left:308.5pt;line-height:9.8pt\"><span style=\"font-family:MinionPro,serif;font-size:9.8pt\">&#x442;&#x44b;&#x439; &#x431;&#x44b;&#x43a;, &#x432;&#x430;&#x442;&#x443;&#x441;&#x441;&#x438;, &#x433;&#x430;&#x443;&#x440;, &#x433;&#x430;&#x44f;&#x43b;, &#x431;&#x430;&#x43d;&#x442;&#x435;&#x43d;&#x433;, &#x442;&#x438;&#x431;&#x435;&#x442;&#x441;&#x43a;&#x438;&#x439; &#x44f;&#x43a;)</span></p>\\n<p style=\"top:523.2pt;left:298.5pt;line-height:12.5pt\"><span style=\"font-family:MinionPro,serif;font-size:12.5pt\">&#x2022;&#x9;</span><span style=\"font-family:MinionPro,serif;font-size:9.6pt\"> &#x411;&#x443;&#x439;&#x432;&#x43e;&#x43b;&#x44b; (&#x438;&#x43d;&#x434;&#x438;&#x439;&#x441;&#x43a;&#x438;&#x435; &#x438;&#x43b;&#x438; &#x432;&#x43e;&#x434;&#x44f;&#x43d;&#x44b;&#x435; &#x431;&#x443;&#x439;&#x432;&#x43e;&#x43b;&#x44b;, &#x430;&#x437;&#x438;&#x430;&#x442;&#x441;&#x43a;&#x438;&#x439; &#x431;&#x443;&#x439;&#x432;&#x43e;&#x43b; </span></p>\\n<p style=\"top:537.6pt;left:308.5pt;line-height:9.6pt\"><span style=\"font-family:MinionPro,serif;font-size:9.6pt\">&#x438;&#x43b;&#x438; &#x430;&#x440;&#x43d;&#x438;, &#x441;&#x443;&#x43b;&#x430;&#x432;&#x435;&#x441;&#x441;&#x43a;&#x438;&#x439; &#x430;&#x43d;&#x43e;&#x430; &#x438;&#x43b;&#x438; &#x43a;&#x430;&#x440;&#x43b;&#x438;&#x43a;&#x43e;&#x432;&#x44b;&#x435; &#x431;&#x443;&#x439;&#x432;&#x43e;&#x43b;&#x44b;, &#x430;&#x444;&#x440;&#x438;-</span></p>\\n<p style=\"top:548.6pt;left:308.5pt;line-height:9.6pt\"><span style=\"font-family:MinionPro,serif;font-size:9.6pt\">&#x43a;&#x430;&#x43d;&#x441;&#x43a;&#x438;&#x435; &#x431;&#x443;&#x439;&#x432;&#x43e;&#x43b;&#x44b;, &#x43d;&#x430;&#x43f;&#x440;&#x438;&#x43c;&#x435;&#x440;, &#x43a;&#x430;&#x440;&#x43b;&#x438;&#x43a;&#x43e;&#x432;&#x44b;&#x435; &#x431;&#x443;&#x439;&#x432;&#x43e;&#x43b;&#x44b; &#x438; &#x43a;&#x440;&#x443;&#x43f;&#x43d;&#x44b;&#x435; </span></p>\\n<p style=\"top:559.6pt;left:308.5pt;line-height:9.6pt\"><span style=\"font-family:MinionPro,serif;font-size:9.6pt\">&#x43a;&#x430;&#x444;&#x440;&#x441;&#x43a;&#x438;&#x435; &#x431;&#x443;&#x439;&#x432;&#x43e;&#x43b;&#x44b;, &#x430;&#x43c;&#x435;&#x440;&#x438;&#x43a;&#x430;&#x43d;&#x441;&#x43a;&#x438;&#x439; &#x431;&#x438;&#x437;&#x43e;&#x43d; &#x438;&#x43b;&#x438; &#x431;&#x443;&#x439;&#x432;&#x43e;&#x43b; &#x438; &#x435;&#x432;&#x440;&#x43e;-</span></p>\\n<p style=\"top:570.6pt;left:308.5pt;line-height:9.6pt\"><span style=\"font-family:MinionPro,serif;font-size:9.6pt\">&#x43f;&#x435;&#x439;&#x441;&#x43a;&#x438;&#x439; &#x431;&#x438;&#x437;&#x43e;&#x43d; (&#x431;&#x438;&#x444;&#x430;&#x43b;&#x43e; [&#x43f;&#x43e;&#x43c;&#x435;&#x441;&#x44c; &#x431;&#x438;&#x437;&#x43e;&#x43d;&#x430; &#x438; &#x434;&#x43e;&#x43c;&#x430;&#x448;&#x43d;&#x435;&#x439; &#x43a;&#x43e;&#x440;&#x43e;&#x432;&#x44b;])</span></p>\\n<p style=\"top:580.5pt;left:298.5pt;line-height:12.8pt\"><span style=\"font-family:MinionPro,serif;font-size:12.8pt\">&#x2022;&#x9;</span><span style=\"font-family:MinionPro,serif;font-size:9.8pt\"> &#x421;&#x432;&#x438;&#x43d;&#x44c;&#x438;</span></p>\\n<p style=\"top:594.0pt;left:298.5pt;line-height:12.8pt\"><span style=\"font-family:MinionPro,serif;font-size:12.8pt\">&#x2022;&#x9;</span><span style=\"font-family:MinionPro,serif;font-size:9.8pt\"> &#x41a;&#x43e;&#x437;&#x44b;, &#x43e;&#x432;&#x446;&#x44b; &#x438; &#x44f;&#x433;&#x43d;&#x44f;&#x442;&#x430;</span></p>\\n<p style=\"top:607.5pt;left:298.5pt;line-height:12.8pt\"><span style=\"font-family:MinionPro,serif;font-size:12.8pt\">&#x2022;&#x9;</span><span style=\"font-family:MinionPro,serif;font-size:9.8pt\"> &#x414;&#x43e;&#x43c;&#x430;&#x448;&#x43d;&#x44f;&#x44f; &#x43f;&#x442;&#x438;&#x446;&#x430; (&#x43a;&#x443;&#x440;&#x44b;, &#x443;&#x442;&#x43a;&#x438;, &#x433;&#x443;&#x441;&#x438;, &#x438;&#x43d;&#x434;&#x435;&#x439;&#x43a;&#x438; &#x438; &#x446;&#x435;&#x441;&#x430;&#x440;&#x43a;&#x438;)</span></p>\\n<p style=\"top:621.0pt;left:298.5pt;line-height:12.8pt\"><span style=\"font-family:MinionPro,serif;font-size:12.8pt\">&#x2022;&#x9;</span><span style=\"font-family:MinionPro,serif;font-size:9.8pt\"> &#x41b;&#x43e;&#x448;&#x430;&#x434;&#x438;, &#x43e;&#x441;&#x43b;&#x44b; &#x438; &#x434;&#x440;&#x443;&#x433;&#x438;&#x435; &#x43f;&#x440;&#x435;&#x434;&#x441;&#x442;&#x430;&#x432;&#x438;&#x442;&#x435;&#x43b;&#x438; &#x441;&#x435;&#x43c;&#x435;&#x439;&#x441;&#x442;&#x432;&#x430; &#x43b;&#x43e;&#x448;&#x430;&#x434;&#x438;-</span></p>\\n<p style=\"top:635.4pt;left:308.5pt;line-height:9.8pt\"><span style=\"font-family:MinionPro,serif;font-size:9.8pt\">&#x43d;&#x44b;&#x445;</span></p>\\n<p style=\"top:645.5pt;left:298.5pt;line-height:12.8pt\"><span style=\"font-family:MinionPro,serif;font-size:12.8pt\">&#x2022;&#x9;</span><span style=\"font-family:MinionPro,serif;font-size:9.8pt\"> &#x412;&#x435;&#x440;&#x431;&#x43b;&#x44e;&#x434;&#x44b;, &#x43e;&#x434;&#x43d;&#x43e;&#x433;&#x43e;&#x440;&#x431;&#x44b;&#x435; &#x432;&#x435;&#x440;&#x431;&#x43b;&#x44e;&#x434;&#x44b;, &#x430;&#x43b;&#x44c;&#x43f;&#x430;&#x43a;&#x430;, &#x43b;&#x430;&#x43c;&#x430;, &#x433;&#x443;&#x430;&#x43d;&#x430;&#x43a;&#x43e;, </span></p>\\n<p style=\"top:659.9pt;left:308.5pt;line-height:9.8pt\"><span style=\"font-family:MinionPro,serif;font-size:9.8pt\">&#x432;&#x438;&#x43a;&#x443;&#x43d;&#x44c;&#x44f; &#x438; &#x434;&#x440;&#x443;&#x433;&#x438;&#x435; &#x432;&#x435;&#x440;&#x431;&#x43b;&#x44e;&#x434;&#x43e;&#x432;&#x44b;&#x435;</span></p>\\n<p style=\"top:670.0pt;left:298.5pt;line-height:12.8pt\"><span style=\"font-family:MinionPro,serif;font-size:12.8pt\">&#x2022;&#x9;</span><span style=\"font-family:MinionPro,serif;font-size:9.8pt\"> &#x422;&#x44e;&#x43b;&#x435;&#x43d;&#x438;, &#x43c;&#x43e;&#x440;&#x436;&#x438;, &#x43a;&#x438;&#x442;&#x44b; &#x438; &#x434;&#x440;&#x443;&#x433;&#x438;&#x435; &#x43c;&#x43e;&#x440;&#x441;&#x43a;&#x438;&#x435; &#x43c;&#x43b;&#x435;&#x43a;&#x43e;&#x43f;&#x438;&#x442;&#x430;&#x44e;&#x449;&#x438;&#x435;</span></p>\\n<p style=\"top:683.5pt;left:298.5pt;line-height:12.8pt\"><span style=\"font-family:MinionPro,serif;font-size:12.8pt\">&#x2022;&#x9;</span><span style=\"font-family:MinionPro,serif;font-size:9.8pt\"> &#x410;&#x43d;&#x442;&#x438;&#x43b;&#x43e;&#x43f;&#x44b;, &#x43e;&#x43b;&#x435;&#x43d;&#x438;, &#x43a;&#x430;&#x431;&#x430;&#x43d;&#x44b;, &#x43a;&#x435;&#x43d;&#x433;&#x443;&#x440;&#x443;</span></p>\\n<p style=\"top:697.0pt;left:298.5pt;line-height:12.8pt\"><span style=\"font-family:MinionPro,serif;font-size:12.8pt\">&#x2022;&#x9;</span><span style=\"font-family:MinionPro,serif;font-size:9.8pt\"> &#x421;&#x442;&#x440;&#x430;&#x443;&#x441;&#x44b;, &#x44d;&#x43c;&#x443;, &#x43d;&#x430;&#x43d;&#x434;&#x443;, &#x444;&#x430;&#x437;&#x430;&#x43d;&#x44b;, &#x442;&#x435;&#x442;&#x435;&#x440;&#x435;&#x432;&#x430;, &#x433;&#x43e;&#x43b;&#x443;&#x431;&#x438;, &#x43f;&#x435;&#x440;&#x435;&#x43f;&#x435;&#x43b;&#x430; </span></p>\\n<p style=\"top:711.4pt;left:308.5pt;line-height:9.8pt\"><span style=\"font-family:MinionPro,serif;font-size:9.8pt\">&#x438;&#xa0;&#x434;&#x440;&#x443;&#x433;&#x438;&#x435; &#x43f;&#x442;&#x438;&#x446;&#x44b;</span></p>\\n<p style=\"top:721.5pt;left:298.5pt;line-height:12.8pt\"><span style=\"font-family:MinionPro,serif;font-size:12.8pt\">&#x2022;&#x9;</span><span style=\"font-family:MinionPro,serif;font-size:9.8pt\"> &#x417;&#x43c;&#x435;&#x438;, &#x430;&#x43b;&#x43b;&#x438;&#x433;&#x430;&#x442;&#x43e;&#x440;&#x44b; &#x438; &#x434;&#x440;&#x443;&#x433;&#x438;&#x435; &#x440;&#x435;&#x43f;&#x442;&#x438;&#x43b;&#x438;&#x438;</span></p>\\n<p style=\"top:58.4pt;left:47.5pt;line-height:9.8pt\"><i><span style=\"font-family:MinionPro,serif;font-size:9.8pt\">&#x41d;&#x435; &#x432;&#x43a;&#x43b;&#x44e;&#x447;&#x430;&#x435;&#x442;&#x441;&#x44f;:</span></i></p>\\n<p style=\"top:74.4pt;left:47.5pt;line-height:12.8pt\"><span style=\"font-family:MinionPro,serif;font-size:12.8pt\">&#x2022;&#x9;</span><i><span style=\"font-family:MinionPro,serif;font-size:9.8pt\"> &#x417;&#x43b;&#x430;&#x43a;&#x43e;&#x432;&#x430;&#x44f; &#x43c;&#x443;&#x43a;&#x430; (01.1.1.2)</span></i></p>\\n<p style=\"top:88.2pt;left:47.5pt;line-height:12.8pt\"><span style=\"font-family:MinionPro,serif;font-size:12.8pt\">&#x2022;&#x9;</span><i><span style=\"font-family:MinionPro,serif;font-size:9.8pt\"> &#x413;&#x43e;&#x442;&#x43e;&#x432;&#x44b;&#x435; &#x437;&#x430;&#x432;&#x442;&#x440;&#x430;&#x43a;&#x438; (01.1.1.4)</span></i></p>\\n<p style=\"top:102.1pt;left:47.5pt;line-height:12.8pt\"><span style=\"font-family:MinionPro,serif;font-size:12.8pt\">&#x2022;&#x9;</span><i><span style=\"font-family:MinionPro,serif;font-size:9.8pt\"> &#x413;&#x43e;&#x442;&#x43e;&#x432;&#x44b;&#x435; &#x43a; &#x43f;&#x440;&#x438;&#x433;&#x43e;&#x442;&#x43e;&#x432;&#x43b;&#x435;&#x43d;&#x438;&#x44e; &#x43f;&#x440;&#x43e;&#x434;&#x443;&#x43a;&#x442;&#x44b; &#x43d;&#x430; &#x43e;&#x441;&#x43d;&#x43e;&#x432;&#x435; &#x43a;&#x440;&#x443;&#x43f;, &#x43d;&#x430;&#x43f;&#x440;&#x438;-</span></i></p>\\n<p style=\"top:116.8pt;left:57.5pt;line-height:9.8pt\"><i><span style=\"font-family:MinionPro,serif;font-size:9.8pt\">&#x43c;&#x435;&#x440;, &#x433;&#x43e;&#x442;&#x43e;&#x432;&#x44b;&#x435; &#x441;&#x443;&#x43f;&#x44b; &#x43d;&#x430; &#x43e;&#x441;&#x43d;&#x43e;&#x432;&#x435; &#x43a;&#x440;&#x443;&#x43f; (01.1.9.1)</span></i></p>\\n<p style=\"top:127.2pt;left:47.5pt;line-height:12.8pt\"><span style=\"font-family:MinionPro,serif;font-size:12.8pt\">&#x2022;&#x9;</span><i><span style=\"font-family:MinionPro,serif;font-size:9.8pt\"> &#x420;&#x438;&#x441;&#x43e;&#x432;&#x430;&#x44f; &#x43a;&#x440;&#x443;&#x43f;&#x430; &#x434;&#x43b;&#x44f; &#x434;&#x435;&#x442;&#x441;&#x43a;&#x43e;&#x433;&#x43e; &#x43f;&#x438;&#x442;&#x430;&#x43d;&#x438;&#x44f; &#x438; &#x434;&#x440;&#x443;&#x433;&#x438;&#x435; &#x43a;&#x440;&#x443;&#x43f;&#x44b; &#x434;&#x43b;&#x44f; </span></i></p>\\n<p style=\"top:141.9pt;left:57.5pt;line-height:9.8pt\"><i><span style=\"font-family:MinionPro,serif;font-size:9.8pt\">&#x434;&#x435;&#x442;&#x441;&#x43a;&#x43e;&#x433;&#x43e; &#x43f;&#x438;&#x442;&#x430;&#x43d;&#x438;&#x44f; (01.1.9.2)</span></i></p>\\n<p style=\"top:152.4pt;left:47.5pt;line-height:12.8pt\"><span style=\"font-family:MinionPro,serif;font-size:12.8pt\">&#x2022;&#x9;</span><i><span style=\"font-family:MinionPro,serif;font-size:9.8pt\"> &#x420;&#x430;&#x441;&#x441;&#x430;&#x434;&#x43d;&#x44b;&#x435; &#x441;&#x435;&#x43c;&#x435;&#x43d;&#x430; (09.3.1.2)</span></i></p>\\n<p style=\"top:176.9pt;left:47.5pt;line-height:8.9pt\"><b><i><span style=\"font-family:Arial,serif;font-size:8.9pt\">01.1.1.2 &#x417;&#x43b;&#x430;&#x43a;&#x43e;&#x432;&#x430;&#x44f; &#x43c;&#x443;&#x43a;&#x430; (ND)</span></i></b></p>\\n<p style=\"top:193.0pt;left:47.5pt;line-height:9.8pt\"><span style=\"font-family:MinionPro,serif;font-size:9.8pt\">&#x412;&#x43a;&#x43b;&#x44e;&#x447;&#x430;&#x435;&#x442;&#x441;&#x44f;:</span></p>\\n<p style=\"top:208.9pt;left:47.5pt;line-height:12.8pt\"><span style=\"font-family:MinionPro,serif;font-size:12.8pt\">&#x2022;&#x9;</span><span style=\"font-family:MinionPro,serif;font-size:9.8pt\"> &#x417;&#x43b;&#x430;&#x43a;&#x43e;&#x432;&#x430;&#x44f; &#x43c;&#x443;&#x43a;&#x430;, &#x443;&#x43f;&#x43e;&#x43c;&#x44f;&#x43d;&#x443;&#x442;&#x430;&#x44f; &#x432; &#x43f;&#x43e;&#x434;&#x433;&#x440;&#x443;&#x43f;&#x43f;&#x435;&#xa0;01.1.1.1</span></p>\\n<p style=\"top:234.6pt;left:47.5pt;line-height:9.8pt\"><i><span style=\"font-family:MinionPro,serif;font-size:9.8pt\">&#x41d;&#x435; &#x432;&#x43a;&#x43b;&#x44e;&#x447;&#x430;&#x435;&#x442;&#x441;&#x44f;:</span></i></p>\\n<p style=\"top:250.6pt;left:47.5pt;line-height:12.8pt\"><span style=\"font-family:MinionPro,serif;font-size:12.8pt\">&#x2022;&#x9;</span><i><span style=\"font-family:MinionPro,serif;font-size:9.8pt\"> &#x41c;&#x443;&#x43a;&#x430; &#x434;&#x43b;&#x44f; &#x434;&#x435;&#x442;&#x441;&#x43a;&#x43e;&#x433;&#x43e; &#x43f;&#x438;&#x442;&#x430;&#x43d;&#x438;&#x44f;, &#x440;&#x438;&#x441;&#x43e;&#x432;&#x430;&#x44f; &#x43a;&#x440;&#x443;&#x43f;&#x430; &#x434;&#x43b;&#x44f; &#x434;&#x435;&#x442;&#x441;&#x43a;&#x43e;&#x433;&#x43e; </span></i></p>\\n<p style=\"top:265.3pt;left:57.5pt;line-height:9.8pt\"><i><span style=\"font-family:MinionPro,serif;font-size:9.8pt\">&#x43f;&#x438;&#x442;&#x430;&#x43d;&#x438;&#x44f; &#x438; &#x434;&#x440;&#x443;&#x433;&#x438;&#x435; &#x43a;&#x440;&#x443;&#x43f;&#x44b; &#x434;&#x43b;&#x44f; &#x434;&#x435;&#x442;&#x441;&#x43a;&#x43e;&#x433;&#x43e; &#x43f;&#x438;&#x442;&#x430;&#x43d;&#x438;&#x44f; (01.1.9.2)</span></i></p>\\n<p style=\"top:286.5pt;left:47.5pt;line-height:8.9pt\"><b><i><span style=\"font-family:Arial,serif;font-size:8.9pt\">01.1.1.3 &#x425;&#x43b;&#x435;&#x431; &#x438; &#x445;&#x43b;&#x435;&#x431;&#x43e;&#x431;&#x443;&#x43b;&#x43e;&#x447;&#x43d;&#x44b;&#x435; &#x438;&#x437;&#x434;&#x435;&#x43b;&#x438;&#x44f; (ND)</span></i></b></p>\\n<p style=\"top:302.5pt;left:47.5pt;line-height:9.8pt\"><span style=\"font-family:MinionPro,serif;font-size:9.8pt\">&#x412;&#x43a;&#x43b;&#x44e;&#x447;&#x430;&#x435;&#x442;&#x441;&#x44f;:</span></p>\\n<p style=\"top:318.5pt;left:47.5pt;line-height:12.8pt\"><span style=\"font-family:MinionPro,serif;font-size:12.8pt\">&#x2022;&#x9;</span><span style=\"font-family:MinionPro,serif;font-size:9.8pt\"> &#x425;&#x43b;&#x435;&#x431; &#x438; &#x431;&#x443;&#x43b;&#x43a;&#x438;</span></p>\\n<p style=\"top:332.3pt;left:47.5pt;line-height:12.8pt\"><span style=\"font-family:MinionPro,serif;font-size:12.8pt\">&#x2022;&#x9;</span><span style=\"font-family:MinionPro,serif;font-size:9.8pt\"> &#x425;&#x440;&#x443;&#x441;&#x442;&#x44f;&#x449;&#x438;&#x435; &#x445;&#x43b;&#x435;&#x431;&#x446;&#x44b;, &#x441;&#x443;&#x445;&#x430;&#x440;&#x438;, &#x43f;&#x43e;&#x434;&#x436;&#x430;&#x440;&#x435;&#x43d;&#x43d;&#x44b;&#x439; &#x445;&#x43b;&#x435;&#x431;, &#x43a;&#x440;&#x435;&#x43a;&#x435;&#x440;&#x44b;</span></p>\\n<p style=\"top:346.2pt;left:47.5pt;line-height:12.8pt\"><span style=\"font-family:MinionPro,serif;font-size:12.8pt\">&#x2022;&#x9;</span><span style=\"font-family:MinionPro,serif;font-size:9.8pt\"> &#x422;&#x43e;&#x440;&#x442;&#x438;&#x43b;&#x44c;&#x438;</span></p>\\n<p style=\"top:360.0pt;left:47.5pt;line-height:12.8pt\"><span style=\"font-family:MinionPro,serif;font-size:12.8pt\">&#x2022;&#x9;</span><span style=\"font-family:MinionPro,serif;font-size:9.8pt\"> &#x42b;&#x43d;&#x434;&#x436;&#x435;&#x440;&#x430;</span></p>\\n<p style=\"top:373.8pt;left:47.5pt;line-height:12.8pt\"><span style=\"font-family:MinionPro,serif;font-size:12.8pt\">&#x2022;&#x9;</span><span style=\"font-family:MinionPro,serif;font-size:9.8pt\"> &#x41e;&#x441;&#x43d;&#x43e;&#x432;&#x44b; &#x434;&#x43b;&#x44f; &#x43f;&#x438;&#x446;&#x446;&#x44b; &#x431;&#x435;&#x437; &#x43d;&#x430;&#x447;&#x438;&#x43d;&#x43a;&#x438; (&#x432; &#x442;&#x43e;&#x43c; &#x447;&#x438;&#x441;&#x43b;&#x435; &#x43f;&#x440;&#x43e;&#x448;&#x435;&#x434;&#x448;&#x438;&#x435; </span></p>\\n<p style=\"top:388.6pt;left:57.5pt;line-height:9.8pt\"><span style=\"font-family:MinionPro,serif;font-size:9.8pt\">&#x43f;&#x440;&#x435;&#x434;&#x432;&#x430;&#x440;&#x438;&#x442;&#x435;&#x43b;&#x44c;&#x43d;&#x443;&#x44e; &#x43e;&#x431;&#x440;&#x430;&#x431;&#x43e;&#x442;&#x43a;&#x443;)</span></p>\\n<p style=\"top:399.0pt;left:47.5pt;line-height:12.8pt\"><span style=\"font-family:MinionPro,serif;font-size:12.8pt\">&#x2022;&#x9;</span><span style=\"font-family:MinionPro,serif;font-size:9.8pt\"> &#x418;&#x43c;&#x431;&#x438;&#x440;&#x43d;&#x44b;&#x435; &#x43f;&#x440;&#x44f;&#x43d;&#x438;&#x43a;&#x438; &#x438; &#x438;&#x445; &#x430;&#x43d;&#x430;&#x43b;&#x43e;&#x433;&#x438;</span></p>\\n<p style=\"top:412.9pt;left:47.5pt;line-height:12.8pt\"><span style=\"font-family:MinionPro,serif;font-size:12.8pt\">&#x2022;&#x9;</span><span style=\"font-family:MinionPro,serif;font-size:9.8pt\"> &#x421;&#x43b;&#x430;&#x434;&#x43a;&#x43e;&#x435; &#x43f;&#x435;&#x447;&#x435;&#x43d;&#x44c;&#x435;</span></p>\\n<p style=\"top:426.7pt;left:47.5pt;line-height:12.8pt\"><span style=\"font-family:MinionPro,serif;font-size:12.8pt\">&#x2022;&#x9;</span><span style=\"font-family:MinionPro,serif;font-size:9.8pt\"> &#x421;&#x443;&#x445;&#x438;&#x435; &#x438; &#x43c;&#x44f;&#x433;&#x43a;&#x438;&#x435; &#x432;&#x430;&#x444;&#x43b;&#x438;</span></p>\\n<p style=\"top:440.6pt;left:47.5pt;line-height:12.8pt\"><span style=\"font-family:MinionPro,serif;font-size:12.8pt\">&#x2022;&#x9;</span><span style=\"font-family:MinionPro,serif;font-size:9.8pt\"> &#x412;&#x430;&#x444;&#x435;&#x43b;&#x44c;&#x43d;&#x44b;&#x435; &#x440;&#x43e;&#x436;&#x43a;&#x438; &#x434;&#x43b;&#x44f; &#x43c;&#x43e;&#x440;&#x43e;&#x436;&#x435;&#x43d;&#x43e;&#x433;&#x43e;</span></p>\\n<p style=\"top:454.4pt;left:47.5pt;line-height:12.8pt\"><span style=\"font-family:MinionPro,serif;font-size:12.8pt\">&#x2022;&#x9;</span><span style=\"font-family:MinionPro,serif;font-size:9.8pt\"> &#x41e;&#x43b;&#x430;&#x434;&#x44c;&#x438;, &#x43c;&#x430;&#x444;&#x444;&#x438;&#x43d;&#x44b;, &#x43a;&#x440;&#x443;&#x430;&#x441;&#x441;&#x430;&#x43d;&#x44b;, &#x43a;&#x435;&#x43a;&#x441;&#x44b;, &#x441;&#x43b;&#x430;&#x434;&#x43a;&#x438;&#x435; &#x43e;&#x442;&#x43a;&#x440;&#x44b;&#x442;&#x44b;&#x435; </span></p>\\n<p style=\"top:469.1pt;left:57.5pt;line-height:9.8pt\"><span style=\"font-family:MinionPro,serif;font-size:9.8pt\">&#x43f;&#x438;&#x440;&#x43e;&#x433;&#x438;, &#x441;&#x43b;&#x430;&#x434;&#x43a;&#x438;&#x435; &#x43f;&#x438;&#x440;&#x43e;&#x433;&#x438; &#x438; &#x434;&#x440;&#x443;&#x433;&#x438;&#x435; &#x43c;&#x443;&#x447;&#x43d;&#x44b;&#x435; &#x43a;&#x43e;&#x43d;&#x434;&#x438;&#x442;&#x435;&#x440;&#x441;&#x43a;&#x438;&#x435; </span></p>\\n<p style=\"top:480.4pt;left:57.5pt;line-height:9.8pt\"><span style=\"font-family:MinionPro,serif;font-size:9.8pt\">&#x438;&#x437;&#x434;&#x435;&#x43b;&#x438;&#x44f; &#x438; &#x43f;&#x438;&#x440;&#x43e;&#x436;&#x43d;&#x44b;&#x435;</span></p>\\n<p style=\"top:497.3pt;left:47.5pt;line-height:9.8pt\"><i><span style=\"font-family:MinionPro,serif;font-size:9.8pt\">&#x41d;&#x435; &#x432;&#x43a;&#x43b;&#x44e;&#x447;&#x430;&#x435;&#x442;&#x441;&#x44f;:</span></i></p>\\n<p style=\"top:513.3pt;left:47.5pt;line-height:12.8pt\"><span style=\"font-family:MinionPro,serif;font-size:12.8pt\">&#x2022;&#x9;</span><i><span style=\"font-family:MinionPro,serif;font-size:9.8pt\"> &#x41f;&#x438;&#x446;&#x446;&#x430; (&#x441; &#x43d;&#x430;&#x447;&#x438;&#x43d;&#x43a;&#x43e;&#x439;), &#x43a;&#x438;&#x448;, &#x43f;&#x438;&#x440;&#x43e;&#x433;&#x438; &#x441; &#x43c;&#x44f;&#x441;&#x43e;&#x43c; &#x438;&#x43b;&#x438; &#x440;&#x44b;&#x431;&#x43e;&#x439; (01.1.9.1)</span></i></p>\\n<p style=\"top:537.8pt;left:47.5pt;line-height:8.9pt\"><b><i><span style=\"font-family:Arial,serif;font-size:8.9pt\">01.1.1.4 &#x413;&#x43e;&#x442;&#x43e;&#x432;&#x44b;&#x435; &#x437;&#x430;&#x432;&#x442;&#x440;&#x430;&#x43a;&#x438; (ND)</span></i></b></p>\\n<p style=\"top:553.8pt;left:47.5pt;line-height:9.8pt\"><span style=\"font-family:MinionPro,serif;font-size:9.8pt\">&#x412;&#x43a;&#x43b;&#x44e;&#x447;&#x430;&#x435;&#x442;&#x441;&#x44f;:</span></p>\\n<p style=\"top:569.8pt;left:47.5pt;line-height:12.8pt\"><span style=\"font-family:MinionPro,serif;font-size:12.8pt\">&#x2022;&#x9;</span><span style=\"font-family:MinionPro,serif;font-size:9.8pt\"> &#x41a;&#x443;&#x43a;&#x443;&#x440;&#x443;&#x437;&#x43d;&#x44b;&#x435; &#x445;&#x43b;&#x43e;&#x43f;&#x44c;&#x44f;, &#x433;&#x435;&#x440;&#x43a;&#x443;&#x43b;&#x435;&#x441; &#x438; &#x43e;&#x432;&#x441;&#x44f;&#x43d;&#x44b;&#x435; &#x445;&#x43b;&#x43e;&#x43f;&#x44c;&#x44f;, &#x43c;&#x44e;&#x441;&#x43b;&#x438;, </span></p>\\n<p style=\"top:584.5pt;left:57.5pt;line-height:9.8pt\"><span style=\"font-family:MinionPro,serif;font-size:9.8pt\">&#x433;&#x440;&#x430;&#x43d;&#x43e;&#x43b;&#x430; &#x438; &#x432;&#x43e;&#x437;&#x434;&#x443;&#x448;&#x43d;&#x44b;&#x435; &#x437;&#x435;&#x440;&#x43d;&#x430;, &#x432;&#x43a;&#x43b;&#x44e;&#x447;&#x430;&#x44f; &#x432;&#x43e;&#x437;&#x434;&#x443;&#x448;&#x43d;&#x44b;&#x435; &#x440;&#x438;&#x441;&#x43e;&#x432;&#x44b;&#x435; </span></p>\\n<p style=\"top:595.8pt;left:57.5pt;line-height:9.8pt\"><span style=\"font-family:MinionPro,serif;font-size:9.8pt\">&#x445;&#x43b;&#x435;&#x431;&#x446;&#x44b;</span></p>\\n<p style=\"top:606.3pt;left:47.5pt;line-height:12.8pt\"><span style=\"font-family:MinionPro,serif;font-size:12.8pt\">&#x2022;&#x9;</span><span style=\"font-family:MinionPro,serif;font-size:9.8pt\"> &#x413;&#x43e;&#x442;&#x43e;&#x432;&#x44b;&#x435; &#x437;&#x430;&#x432;&#x442;&#x440;&#x430;&#x43a;&#x438; &#x441; &#x43e;&#x440;&#x435;&#x445;&#x430;&#x43c;&#x438; &#x438;&#x43b;&#x438; &#x441;&#x443;&#x445;&#x43e;&#x444;&#x440;&#x443;&#x43a;&#x442;&#x430;&#x43c;&#x438;</span></p>\\n<p style=\"top:626.5pt;left:47.5pt;line-height:9.8pt\"><i><span style=\"font-family:MinionPro,serif;font-size:9.8pt\">&#x41d;&#x435; &#x432;&#x43a;&#x43b;&#x44e;&#x447;&#x430;&#x435;&#x442;&#x441;&#x44f;:</span></i></p>\\n<p style=\"top:642.5pt;left:47.5pt;line-height:12.8pt\"><span style=\"font-family:MinionPro,serif;font-size:12.8pt\">&#x2022;&#x9;</span><i><span style=\"font-family:MinionPro,serif;font-size:9.8pt\"> &#x41f;&#x43e;&#x43f;&#x43a;&#x43e;&#x440;&#x43d; (1.1.1.9)</span></i></p>\\n<p style=\"top:667.0pt;left:47.5pt;line-height:8.9pt\"><b><i><span style=\"font-family:Arial,serif;font-size:8.9pt\">01.1.1.5 &#x41c;&#x430;&#x43a;&#x430;&#x440;&#x43e;&#x43d;&#x44b;, &#x43b;&#x430;&#x43f;&#x448;&#x430;, &#x43a;&#x443;&#x441;&#x43a;&#x443;&#x441; &#x438; &#x430;&#x43d;&#x430;&#x43b;&#x43e;&#x433;&#x438;&#x447;&#x43d;&#x44b;&#x435; </span></i></b></p>\\n<p style=\"top:678.3pt;left:47.5pt;line-height:8.9pt\"><b><i><span style=\"font-family:Arial,serif;font-size:8.9pt\">&#x43c;&#x430;&#x43a;&#x430;&#x440;&#x43e;&#x43d;&#x43d;&#x44b;&#x435; &#x438;&#x437;&#x434;&#x435;&#x43b;&#x438;&#x44f; (ND)</span></i></b></p>\\n<p style=\"top:694.4pt;left:47.5pt;line-height:9.8pt\"><span style=\"font-family:MinionPro,serif;font-size:9.8pt\">&#x412;&#x43a;&#x43b;&#x44e;&#x447;&#x430;&#x435;&#x442;&#x441;&#x44f;:</span></p>\\n<p style=\"top:710.3pt;left:47.5pt;line-height:12.8pt\"><span style=\"font-family:MinionPro,serif;font-size:12.8pt\">&#x2022;&#x9;</span><span style=\"font-family:MinionPro,serif;font-size:9.8pt\"> &#x41d;&#x435;&#x43f;&#x440;&#x438;&#x433;&#x43e;&#x442;&#x43e;&#x432;&#x43b;&#x435;&#x43d;&#x43d;&#x44b;&#x435; &#x43c;&#x430;&#x43a;&#x430;&#x440;&#x43e;&#x43d;&#x43d;&#x44b;&#x435; &#x438;&#x437;&#x434;&#x435;&#x43b;&#x438;&#x44f; (&#x441; &#x43d;&#x430;&#x447;&#x438;&#x43d;&#x43a;&#x43e;&#x439; &#x438;&#x43b;&#x438; </span></p>\\n<p style=\"top:725.1pt;left:57.5pt;line-height:9.8pt\"><span style=\"font-family:MinionPro,serif;font-size:9.8pt\">&#x431;&#x435;&#x437;) &#x438; &#x43a;&#x443;&#x441;&#x43a;&#x443;&#x441;</span></p>\\n</div>\\n'"
      ]
     },
     "execution_count": 32,
     "metadata": {},
     "output_type": "execute_result"
    }
   ],
   "source": [
    "page.get_text(\"html\")"
   ]
  }
 ],
 "metadata": {
  "kernelspec": {
   "display_name": "training_and_experiments",
   "language": "python",
   "name": "python3"
  },
  "language_info": {
   "codemirror_mode": {
    "name": "ipython",
    "version": 3
   },
   "file_extension": ".py",
   "mimetype": "text/x-python",
   "name": "python",
   "nbconvert_exporter": "python",
   "pygments_lexer": "ipython3",
   "version": "3.10.14"
  }
 },
 "nbformat": 4,
 "nbformat_minor": 2
}
