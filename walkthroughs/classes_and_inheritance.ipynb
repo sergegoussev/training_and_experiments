{
 "cells": [
  {
   "cell_type": "markdown",
   "metadata": {},
   "source": [
    "# Inheritance between classes\n",
    "\n",
    "When you start working with objects, at times you want to call one object from another object. That would make it easy to have 2 independent objects work great by themselves (and be debugged simply), and have one object use the other as required. \n",
    "\n",
    "##### At first glance, this would look like:"
   ]
  },
  {
   "cell_type": "code",
   "execution_count": 2,
   "metadata": {},
   "outputs": [],
   "source": [
    "class Person:\n",
    "    \"\"\"\n",
    "    The person class has a name (2 variables) and has 2 methods\n",
    "    \"\"\"\n",
    "    def __init__(self, first, last):\n",
    "        self.firstname = first\n",
    "        self.lastname = last\n",
    "\n",
    "    def Name(self):\n",
    "        return self.firstname + \" \" + self.lastname\n",
    "    \n",
    "    def Fart(self):\n",
    "        print(\"... oops {} farted...\".format(self.firstname))"
   ]
  },
  {
   "cell_type": "markdown",
   "metadata": {},
   "source": [
    "Testing this class we see that it works quite simply"
   ]
  },
  {
   "cell_type": "code",
   "execution_count": 9,
   "metadata": {},
   "outputs": [
    {
     "data": {
      "text/plain": [
       "'Homer Simpson'"
      ]
     },
     "execution_count": 9,
     "metadata": {},
     "output_type": "execute_result"
    }
   ],
   "source": [
    "x = Person(\"Homer\", \"Simpson\")\n",
    "x.Name()"
   ]
  },
  {
   "cell_type": "code",
   "execution_count": 20,
   "metadata": {},
   "outputs": [
    {
     "name": "stdout",
     "output_type": "stream",
     "text": [
      "... oops Homer farted...\n"
     ]
    }
   ],
   "source": [
    "x.Fart()"
   ]
  },
  {
   "cell_type": "markdown",
   "metadata": {},
   "source": [
    "Now we can have another class that calls -- call it `Employee` -- that *formally* uses the `Person` class"
   ]
  },
  {
   "cell_type": "code",
   "execution_count": 25,
   "metadata": {},
   "outputs": [],
   "source": [
    "class Employee:\n",
    "\n",
    "    def __init__(self, first, last, staffnum):\n",
    "        self.p = Person(first, last)\n",
    "        self.staffnumber = staffnum\n",
    "\n",
    "    def GetEmployee(self):\n",
    "        return self.p.Name() + \", \" +  str(self.staffnumber)"
   ]
  },
  {
   "cell_type": "code",
   "execution_count": 26,
   "metadata": {},
   "outputs": [
    {
     "data": {
      "text/plain": [
       "'Homer Simpson, 1023'"
      ]
     },
     "execution_count": 26,
     "metadata": {},
     "output_type": "execute_result"
    }
   ],
   "source": [
    "y = Employee(\"Homer\",\"Simpson\",1023)\n",
    "y.GetEmployee()"
   ]
  },
  {
   "attachments": {
    "classes_inheritance1.PNG": {
     "image/png": "[encoded data removed]"
    },
    "classes_inheritance2.PNG": {
     "image/png": "[encoded data removed]"
    }
   },
   "cell_type": "markdown",
   "metadata": {},
   "source": [
    "Notice that to call the `.Name()` method, we have to first specify `self.p` -- as the original `Person` object is saved as this variable!\n",
    "\n",
    "In other words, by assignign `p = Person()`, its methods are not availible in the `Employee` object, but nested in the variable!\n",
    "![classes_inheritance1.PNG](attachment:classes_inheritance1.PNG)\n",
    "\n",
    "![classes_inheritance2.PNG](attachment:classes_inheritance2.PNG)"
   ]
  },
  {
   "cell_type": "markdown",
   "metadata": {},
   "source": [
    "##### Another way would be to use inheritance"
   ]
  },
  {
   "cell_type": "code",
   "execution_count": 32,
   "metadata": {},
   "outputs": [],
   "source": [
    "class Employee(Person):\n",
    "\n",
    "    def __init__(self, first, last, staffnum):\n",
    "        Person.__init__(self, first, last)\n",
    "        self.staffnumber = staffnum\n",
    "\n",
    "    def GetEmployee(self):\n",
    "        return self.Name() + \", \" +  str(self.staffnumber)"
   ]
  },
  {
   "cell_type": "code",
   "execution_count": 34,
   "metadata": {},
   "outputs": [
    {
     "name": "stdout",
     "output_type": "stream",
     "text": [
      "... oops Homer farted...\n"
     ]
    }
   ],
   "source": [
    "y = Employee(\"Homer\",\"Simpson\",1023)\n",
    "y.Fart()"
   ]
  },
  {
   "attachments": {
    "classes_inheritance3.PNG": {
     "image/png": "[encoded data removed]"
    }
   },
   "cell_type": "markdown",
   "metadata": {},
   "source": [
    "If we use inheritance, the `Employee` object has all methods and variables availible from the `Person`:\n",
    "\n",
    "![classes_inheritance3.PNG](attachment:classes_inheritance3.PNG)"
   ]
  },
  {
   "cell_type": "markdown",
   "metadata": {},
   "source": [
    "##### If your child method doesnt use `__init__()`, then all methods are automatically inherited\n",
    "\n",
    "Remember how we specified `Person.__init__()` in our `Employee.__init__()` method?\n",
    "```python\n",
    "    def __init__(self, first, last, staffnum):\n",
    "        Person.__init__(self, first, last)\n",
    "```\n",
    "\n",
    "Well we only need to do that if the child method has an `__init__()` method!"
   ]
  },
  {
   "cell_type": "code",
   "execution_count": 4,
   "metadata": {},
   "outputs": [],
   "source": [
    "class Cartoon(Person):\n",
    "    \n",
    "    def Jump(self):\n",
    "        print(self.Name(), 'jumped!!')"
   ]
  },
  {
   "cell_type": "code",
   "execution_count": 5,
   "metadata": {},
   "outputs": [],
   "source": [
    "homer = Cartoon(\"Homer\",\"Simson\")"
   ]
  },
  {
   "cell_type": "code",
   "execution_count": 6,
   "metadata": {},
   "outputs": [
    {
     "name": "stdout",
     "output_type": "stream",
     "text": [
      "Homer Simson jumped!!\n"
     ]
    }
   ],
   "source": [
    "homer.Jump()"
   ]
  },
  {
   "cell_type": "markdown",
   "metadata": {},
   "source": [
    "That's right! `Cartoon` inherited all `Person` object attributes and actions (i.e. variables and functions) just like that!"
   ]
  }
 ],
 "metadata": {
  "kernelspec": {
   "display_name": "Python 3",
   "language": "python",
   "name": "python3"
  },
  "language_info": {
   "codemirror_mode": {
    "name": "ipython",
    "version": 3
   },
   "file_extension": ".py",
   "mimetype": "text/x-python",
   "name": "python",
   "nbconvert_exporter": "python",
   "pygments_lexer": "ipython3",
   "version": "3.5.5"
  }
 },
 "nbformat": 4,
 "nbformat_minor": 2
}
