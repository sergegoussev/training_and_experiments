{
 "cells": [
  {
   "cell_type": "markdown",
   "metadata": {},
   "source": [
    "# File benchmark\n",
    "\n",
    "In Data Analysis, sometimes it is relevant to use either file stores or S3 type storage services. This Input/Output operations involve reading and writing files. Oftentimes, file sizes are quite large -- hence knowing the types of file formats to use is important, as it could save you quite a lot of time in terms of save or load time. With storage, the size of the file is also important as storage could be expensive. \n",
    "\n",
    "This workbook does a benchmark assessment of a few well known file types. It is quite similar to other benchmark studies, such as [this 'towards data science' format study by Ilia Zaitsev in 2017](https://towardsdatascience.com/the-best-format-to-save-pandas-data-414dca023e0d).\n",
    "\n",
    "## File formats analyzed\n",
    "\n",
    "Old school file formats:\n",
    "1. Pain CSV\n",
    "2. Excel (xlsx)\n",
    "\n",
    "Apache Arrow formats:\n",
    "3. Parquet\n",
    "4. Feather\n",
    "\n",
    "Python specific formats:\n",
    "5. Pickle\n",
    "6. Compressed pickle (using zip format)\n",
    "\n",
    "Other data formats:\n",
    "7. HDF5\n",
    "\n",
    "## Variables used in the analysis\n",
    "* time to save a file (output to stored memory);\n",
    "* time to load a file (input from stored memory);\n",
    "* space on disk\n",
    "\n",
    "## Dataset utilized in analyis\n",
    "\n",
    "To analyze each file format, the relatively large dataset from [Dominiks' Fine foods](https://www.chicagobooth.edu/research/kilts/datasets/dominicks) scanner dataset was utilized as it contains a range of variables - numeric, string, and integer -- as well as being large (7.3M rows). \n",
    "\n",
    "## Note\n",
    "\n",
    "As a side comment, while this analysis was done on Python, the conclusions are mostly applicable to R or other langauges exclusing the use of Pickle and compressed pickle formats, which are python formats.  "
   ]
  },
  {
   "cell_type": "code",
   "execution_count": 2,
   "metadata": {},
   "outputs": [],
   "source": [
    "# %matplotlib inline\n",
    "import seaborn as sns\n",
    "import matplotlib.pyplot as plt\n",
    "import pandas as pd\n",
    "import os"
   ]
  },
  {
   "cell_type": "markdown",
   "metadata": {},
   "source": [
    "Setup a simple timer to return time taken for a task"
   ]
  },
  {
   "cell_type": "code",
   "execution_count": 3,
   "metadata": {},
   "outputs": [],
   "source": [
    "import datetime\n",
    "\n",
    "class Timer:\n",
    "    \"\"\"\n",
    "    Simple timer. When first initiated, it starts, has one method stop(), it prints the time taken\n",
    "    \n",
    "    `\n",
    "    t = Timer()\n",
    "    t.stop()\n",
    "    `\n",
    "    \n",
    "    By default, the Timer() will just print the length of time taken, however if you specify\n",
    "    The stop(return_time=True), it will instead return a datetime object of time taken \n",
    "    \"\"\"\n",
    "    def __init__(self):\n",
    "        # when first initiated, start the clock\n",
    "        self.t_start = datetime.datetime.now()\n",
    "        \n",
    "    def stop(self, return_time=False):\n",
    "        # end timer\n",
    "        self.t_end = datetime.datetime.now()\n",
    "        # return or print the length of time taken\n",
    "        if return_time == True:\n",
    "            return self.t_end - self.t_start\n",
    "        else:\n",
    "            print(\"Task took {t}\".format(t=self.t_end - self.t_start))"
   ]
  },
  {
   "cell_type": "markdown",
   "metadata": {},
   "source": [
    "Load the dataset used in the demo and see how long it is\n",
    "\n",
    "**NOTE**: at this step, any `.csv` demo dataset can be substituted"
   ]
  },
  {
   "cell_type": "code",
   "execution_count": 4,
   "metadata": {},
   "outputs": [
    {
     "data": {
      "text/plain": [
       "7339217"
      ]
     },
     "execution_count": 4,
     "metadata": {},
     "output_type": "execute_result"
    }
   ],
   "source": [
    "demo_dataset = \"https://www.chicagobooth.edu/-/media/enterprise/centers/kilts/datasets/dominicks-dataset/movement_csv-files/wana_csv.zip\"\n",
    "\n",
    "df = pd.read_csv(demo_dataset)\n",
    "len(df)"
   ]
  },
  {
   "cell_type": "markdown",
   "metadata": {},
   "source": [
    "Considering that there are 7.3M rows of data, this invalidates `xlsx` as the simple (or full) output type as this can only handle 1 million rows. If we had still wanted to work with excel for such a large dataset, we would have to split it into several 1M row files. Hence to simulate excel, we will just focus on saving or reading one 1M row file. To equalize the analysis at the end of the day, we will simply multiply the time taken to load/save/store 1m rows by 7.3"
   ]
  },
  {
   "cell_type": "code",
   "execution_count": 5,
   "metadata": {},
   "outputs": [],
   "source": [
    "excel_muliplier = len(df)/1000000"
   ]
  },
  {
   "cell_type": "markdown",
   "metadata": {},
   "source": [
    "## Setup Process to automate the tests"
   ]
  },
  {
   "cell_type": "code",
   "execution_count": 6,
   "metadata": {},
   "outputs": [],
   "source": [
    "def execute_command(message, command):\n",
    "    print(\"starting test:\",message)\n",
    "    total = None\n",
    "    for each in range(0,4):\n",
    "        t = Timer()\n",
    "        exec(command)\n",
    "        if total == None:\n",
    "            total = t.stop(return_time=True)\n",
    "        else:\n",
    "            total = total + t.stop(return_time=True)\n",
    "    print(\"took {l}\".format(l=total/5))\n",
    "    time_av = total/5\n",
    "    # since excel can only store 1M records, multiply the excel estimate by the datasize ratio\n",
    "    if message[:4] == \"xlsx\":\n",
    "        time_av = time_av * excel_muliplier\n",
    "    return message, time_av.total_seconds()"
   ]
  },
  {
   "cell_type": "code",
   "execution_count": 7,
   "metadata": {},
   "outputs": [],
   "source": [
    "formats = {\n",
    "    \"pickle - write\":\"df.to_pickle('{}'.format(file_paths['pickle']))\",\n",
    "    \"pickle - read\":\"df = pd.read_pickle('{}'.format(file_paths['pickle']))\",\n",
    "    \"compressed pickle - write\":\"df.to_pickle('{}'.format(file_paths['compressed pickle']), compression='zip')\",\n",
    "    \"compressed pickle - read\":\"df = pd.read_pickle('{}'.format(file_paths['compressed pickle']))\",\n",
    "    \"csv - write\":\"df.to_csv('{}'.format(file_paths['csv']))\",\n",
    "    \"csv - read\":\"df = pd.read_csv('{}'.format(file_paths['csv']))\",\n",
    "    \"parquet - write\":\"df.to_parquet('{}'.format(file_paths['parquet']))\",\n",
    "    \"parquet - read\":\"df = pd.read_parquet('{}'.format(file_paths['parquet']))\",\n",
    "    \"feather - write\":\"df.to_feather('{}'.format(file_paths['feather']))\",\n",
    "    \"feather - read\":\"df = pd.read_feather('{}'.format(file_paths['feather']))\",\n",
    "    \"hdf5 - write\":\"df.to_hdf('{}'.format(file_paths['hdf5']), key='df')\",\n",
    "    \"hdf5 - read\":\"df = pd.read_hdf('{}'.format(file_paths['hdf5']))\",\n",
    "    \"xlsx - write\":\"df[:1000000].to_excel('{}'.format(file_paths['xlsx']))\",\n",
    "    \"xlsx - read\":\"df = pd.read_excel('{}'.format(file_paths['xlsx']))\"\n",
    "}\n",
    "\n",
    "file_paths = {\n",
    "    \"csv\":\"wana.csv\",\n",
    "    \"pickle\":\"wana.pkl\",\n",
    "    \"compressed pickle\":\"wana.pkl.zip\",\n",
    "    \"feather\":\"wana.feather\",\n",
    "    \"parquet\":\"wana.parquet.gzip\",\n",
    "    \"hdf5\":\"wana.h5\",\n",
    "    \"xlsx\":\"wana.xlsx\"\n",
    "}"
   ]
  },
  {
   "cell_type": "markdown",
   "metadata": {},
   "source": [
    "## Run the process on the downloaded demo file"
   ]
  },
  {
   "cell_type": "code",
   "execution_count": 8,
   "metadata": {},
   "outputs": [
    {
     "name": "stdout",
     "output_type": "stream",
     "text": [
      "starting test: pickle - write\n",
      "took 0:00:03.344310\n",
      "starting test: pickle - read\n",
      "took 0:00:01.997607\n",
      "starting test: compressed pickle - write\n",
      "took 0:00:07.953267\n",
      "starting test: compressed pickle - read\n",
      "took 0:00:12.442646\n",
      "starting test: csv - write\n",
      "took 0:00:40.201943\n",
      "starting test: csv - read\n",
      "took 0:00:06.481310\n",
      "starting test: parquet - write\n",
      "took 0:00:04.330219\n",
      "starting test: parquet - read\n",
      "took 0:00:03.246392\n",
      "starting test: feather - write\n",
      "took 0:00:02.894822\n",
      "starting test: feather - read\n",
      "took 0:00:01.323537\n",
      "starting test: hdf5 - write\n"
     ]
    },
    {
     "name": "stderr",
     "output_type": "stream",
     "text": [
      "C:\\Users\\gouss\\AppData\\Roaming\\Python\\Python37\\site-packages\\pandas\\core\\generic.py:2449: PerformanceWarning: \n",
      "your performance may suffer as PyTables will pickle object types that it cannot\n",
      "map directly to c-types [inferred_type->mixed,key->block2_values] [items->Index(['SALE', 'PRICE_HEX', 'PROFIT_HEX'], dtype='object')]\n",
      "\n",
      "  encoding=encoding,\n"
     ]
    },
    {
     "name": "stdout",
     "output_type": "stream",
     "text": [
      "took 0:00:03.991776\n",
      "starting test: hdf5 - read\n",
      "took 0:00:05.148564\n",
      "starting test: xlsx - write\n",
      "took 0:02:35.857042\n",
      "starting test: xlsx - read\n",
      "took 0:01:36.240834\n"
     ]
    }
   ],
   "source": [
    "times = []\n",
    "for _format in formats:\n",
    "    times.append(execute_command(_format, formats[_format]))\n",
    "\n",
    "df_processing_test = pd.DataFrame(times, columns=[\"task\", \"time taken\"])"
   ]
  },
  {
   "cell_type": "code",
   "execution_count": 9,
   "metadata": {},
   "outputs": [],
   "source": [
    "file_size_test = []\n",
    "\n",
    "for file in file_paths:\n",
    "    fsize = os.path.getsize(file_paths[file])\n",
    "    # since excel can only store 1M records, multiply the excel estimate by the datasize ratio\n",
    "    if file[:4] == \"xlsx\":\n",
    "        fsize = fsize * excel_muliplier\n",
    "    file_size_test.append((file, fsize/1024/1024))\n",
    "\n",
    "df_file_size_test = pd.DataFrame(file_size_test, columns=['type','file size (MB)'])"
   ]
  },
  {
   "cell_type": "markdown",
   "metadata": {},
   "source": [
    "## Visualize and print results for analysis\n",
    "\n",
    "Now that all the results are availible, lets visualize them a bit prior to qualitative analysis"
   ]
  },
  {
   "cell_type": "code",
   "execution_count": 10,
   "metadata": {},
   "outputs": [
    {
     "data": {
      "text/plain": [
       "[Text(0, 0, 'csv'),\n",
       " Text(0, 0, 'pickle'),\n",
       " Text(0, 0, 'compressed pickle'),\n",
       " Text(0, 0, 'feather'),\n",
       " Text(0, 0, 'parquet'),\n",
       " Text(0, 0, 'hdf5'),\n",
       " Text(0, 0, 'xlsx')]"
      ]
     },
     "execution_count": 10,
     "metadata": {},
     "output_type": "execute_result"
    },
    {
     "data": {
      "image/png": "[encoded data removed]",
      "text/plain": [
       "<Figure size 1080x504 with 1 Axes>"
      ]
     },
     "metadata": {
      "needs_background": "light"
     },
     "output_type": "display_data"
    }
   ],
   "source": [
    "plt.figure(figsize=(15,7))\n",
    "ax = sns.barplot(x='type', y='file size (MB)', data=df_file_size_test)\n",
    "_ = ax.set_xlabel('File Format')\n",
    "_ = ax.set_ylabel('Megabytes')\n",
    "_ = ax.set_title('FIle size of the data that is saved\\n(categories as strings)')\n",
    "ax.grid(True)\n",
    "ax.set_xticklabels(ax.get_xticklabels(), rotation=45, fontsize='x-large')"
   ]
  },
  {
   "cell_type": "code",
   "execution_count": 11,
   "metadata": {},
   "outputs": [
    {
     "data": {
      "text/plain": [
       "[Text(0, 0, 'pickle - write'),\n",
       " Text(0, 0, 'pickle - read'),\n",
       " Text(0, 0, 'compressed pickle - write'),\n",
       " Text(0, 0, 'compressed pickle - read'),\n",
       " Text(0, 0, 'csv - write'),\n",
       " Text(0, 0, 'csv - read'),\n",
       " Text(0, 0, 'parquet - write'),\n",
       " Text(0, 0, 'parquet - read'),\n",
       " Text(0, 0, 'feather - write'),\n",
       " Text(0, 0, 'feather - read'),\n",
       " Text(0, 0, 'hdf5 - write'),\n",
       " Text(0, 0, 'hdf5 - read'),\n",
       " Text(0, 0, 'xlsx - write'),\n",
       " Text(0, 0, 'xlsx - read')]"
      ]
     },
     "execution_count": 11,
     "metadata": {},
     "output_type": "execute_result"
    },
    {
     "data": {
      "image/png": "[encoded data removed]",
      "text/plain": [
       "<Figure size 1440x720 with 1 Axes>"
      ]
     },
     "metadata": {
      "needs_background": "light"
     },
     "output_type": "display_data"
    }
   ],
   "source": [
    "plt.figure(figsize=(20,10))\n",
    "ax = sns.barplot(x='task', y='time taken', data=df_processing_test)\n",
    "_ = ax.set_xlabel('File format')\n",
    "_ = ax.set_ylabel('Time Taken (seconds)')\n",
    "_ = ax.set_title('File formats and the time taken for IO\\n(categories as strings)')\n",
    "ax.grid(True)\n",
    "ax.set_xticklabels(ax.get_xticklabels(), rotation=45, fontsize='x-large', horizontalalignment='right')"
   ]
  },
  {
   "cell_type": "markdown",
   "metadata": {},
   "source": [
    "We can print out the dataframes of interst to see the detailed data"
   ]
  },
  {
   "cell_type": "code",
   "execution_count": 12,
   "metadata": {},
   "outputs": [
    {
     "data": {
      "text/html": [
       "<div>\n",
       "<style scoped>\n",
       "    .dataframe tbody tr th:only-of-type {\n",
       "        vertical-align: middle;\n",
       "    }\n",
       "\n",
       "    .dataframe tbody tr th {\n",
       "        vertical-align: top;\n",
       "    }\n",
       "\n",
       "    .dataframe thead th {\n",
       "        text-align: right;\n",
       "    }\n",
       "</style>\n",
       "<table border=\"1\" class=\"dataframe\">\n",
       "  <thead>\n",
       "    <tr style=\"text-align: right;\">\n",
       "      <th></th>\n",
       "      <th>type</th>\n",
       "      <th>file size (MB)</th>\n",
       "    </tr>\n",
       "  </thead>\n",
       "  <tbody>\n",
       "    <tr>\n",
       "      <th>0</th>\n",
       "      <td>csv</td>\n",
       "      <td>547.119179</td>\n",
       "    </tr>\n",
       "    <tr>\n",
       "      <th>1</th>\n",
       "      <td>pickle</td>\n",
       "      <td>579.979185</td>\n",
       "    </tr>\n",
       "    <tr>\n",
       "      <th>2</th>\n",
       "      <td>compressed pickle</td>\n",
       "      <td>14.979172</td>\n",
       "    </tr>\n",
       "    <tr>\n",
       "      <th>3</th>\n",
       "      <td>feather</td>\n",
       "      <td>104.476992</td>\n",
       "    </tr>\n",
       "    <tr>\n",
       "      <th>4</th>\n",
       "      <td>parquet</td>\n",
       "      <td>20.218006</td>\n",
       "    </tr>\n",
       "    <tr>\n",
       "      <th>5</th>\n",
       "      <td>hdf5</td>\n",
       "      <td>2088.185272</td>\n",
       "    </tr>\n",
       "    <tr>\n",
       "      <th>6</th>\n",
       "      <td>xlsx</td>\n",
       "      <td>288.665235</td>\n",
       "    </tr>\n",
       "  </tbody>\n",
       "</table>\n",
       "</div>"
      ],
      "text/plain": [
       "                type  file size (MB)\n",
       "0                csv      547.119179\n",
       "1             pickle      579.979185\n",
       "2  compressed pickle       14.979172\n",
       "3            feather      104.476992\n",
       "4            parquet       20.218006\n",
       "5               hdf5     2088.185272\n",
       "6               xlsx      288.665235"
      ]
     },
     "execution_count": 12,
     "metadata": {},
     "output_type": "execute_result"
    }
   ],
   "source": [
    "df_file_size_test"
   ]
  },
  {
   "cell_type": "code",
   "execution_count": 13,
   "metadata": {},
   "outputs": [
    {
     "data": {
      "text/html": [
       "<div>\n",
       "<style scoped>\n",
       "    .dataframe tbody tr th:only-of-type {\n",
       "        vertical-align: middle;\n",
       "    }\n",
       "\n",
       "    .dataframe tbody tr th {\n",
       "        vertical-align: top;\n",
       "    }\n",
       "\n",
       "    .dataframe thead th {\n",
       "        text-align: right;\n",
       "    }\n",
       "</style>\n",
       "<table border=\"1\" class=\"dataframe\">\n",
       "  <thead>\n",
       "    <tr style=\"text-align: right;\">\n",
       "      <th></th>\n",
       "      <th>task</th>\n",
       "      <th>time taken</th>\n",
       "    </tr>\n",
       "  </thead>\n",
       "  <tbody>\n",
       "    <tr>\n",
       "      <th>0</th>\n",
       "      <td>pickle - write</td>\n",
       "      <td>3.344310</td>\n",
       "    </tr>\n",
       "    <tr>\n",
       "      <th>1</th>\n",
       "      <td>pickle - read</td>\n",
       "      <td>1.997607</td>\n",
       "    </tr>\n",
       "    <tr>\n",
       "      <th>2</th>\n",
       "      <td>compressed pickle - write</td>\n",
       "      <td>7.953267</td>\n",
       "    </tr>\n",
       "    <tr>\n",
       "      <th>3</th>\n",
       "      <td>compressed pickle - read</td>\n",
       "      <td>12.442646</td>\n",
       "    </tr>\n",
       "    <tr>\n",
       "      <th>4</th>\n",
       "      <td>csv - write</td>\n",
       "      <td>40.201943</td>\n",
       "    </tr>\n",
       "    <tr>\n",
       "      <th>5</th>\n",
       "      <td>csv - read</td>\n",
       "      <td>6.481310</td>\n",
       "    </tr>\n",
       "    <tr>\n",
       "      <th>6</th>\n",
       "      <td>parquet - write</td>\n",
       "      <td>4.330219</td>\n",
       "    </tr>\n",
       "    <tr>\n",
       "      <th>7</th>\n",
       "      <td>parquet - read</td>\n",
       "      <td>3.246392</td>\n",
       "    </tr>\n",
       "    <tr>\n",
       "      <th>8</th>\n",
       "      <td>feather - write</td>\n",
       "      <td>2.894822</td>\n",
       "    </tr>\n",
       "    <tr>\n",
       "      <th>9</th>\n",
       "      <td>feather - read</td>\n",
       "      <td>1.323537</td>\n",
       "    </tr>\n",
       "    <tr>\n",
       "      <th>10</th>\n",
       "      <td>hdf5 - write</td>\n",
       "      <td>3.991776</td>\n",
       "    </tr>\n",
       "    <tr>\n",
       "      <th>11</th>\n",
       "      <td>hdf5 - read</td>\n",
       "      <td>5.148564</td>\n",
       "    </tr>\n",
       "    <tr>\n",
       "      <th>12</th>\n",
       "      <td>xlsx - write</td>\n",
       "      <td>1143.868652</td>\n",
       "    </tr>\n",
       "    <tr>\n",
       "      <th>13</th>\n",
       "      <td>xlsx - read</td>\n",
       "      <td>706.332365</td>\n",
       "    </tr>\n",
       "  </tbody>\n",
       "</table>\n",
       "</div>"
      ],
      "text/plain": [
       "                         task   time taken\n",
       "0              pickle - write     3.344310\n",
       "1               pickle - read     1.997607\n",
       "2   compressed pickle - write     7.953267\n",
       "3    compressed pickle - read    12.442646\n",
       "4                 csv - write    40.201943\n",
       "5                  csv - read     6.481310\n",
       "6             parquet - write     4.330219\n",
       "7              parquet - read     3.246392\n",
       "8             feather - write     2.894822\n",
       "9              feather - read     1.323537\n",
       "10               hdf5 - write     3.991776\n",
       "11                hdf5 - read     5.148564\n",
       "12               xlsx - write  1143.868652\n",
       "13                xlsx - read   706.332365"
      ]
     },
     "execution_count": 13,
     "metadata": {},
     "output_type": "execute_result"
    }
   ],
   "source": [
    "df_processing_test"
   ]
  },
  {
   "cell_type": "markdown",
   "metadata": {},
   "source": [
    "# Conclusion\n",
    "\n",
    "A few observations from the above test:\n",
    "* **The worst thing that can be used is `xlsx`, `csv` and `hdf5`**! CSV and Excel formats takes an insanely long time to write and read (54s and 10s respectively for csv, and 4.3min and 2.4min for excel) and takes up 540mb on disk for CSV. HSF5 is quick to load, but is a whooping 1.5gb on disk! \n",
    "* A compressed pickle seems the ideal for space constrained IO -- is the second slowest to load and save (although not by a large margin), but only takes up 20mb;\n",
    "* **Feather is the ideal one for a tradeoff of both on disk space and IO**. It is the fastest when it comes to IO (4.5x faster to read than second best which is parquet, and 2.05x faster to write than parquet), but takes up 100mb on disk, which isn't small.\n",
    "* If space/size is a bit more of a consideration but speed is more important, then the best is parquet. However the ballance between IO speed and size makes it best compared to a compressed pickle. Parquet is a bit larger in size (20mb instead of 14mb) but it is much faster:\n",
    "\n",
    "| type | Parquet | Compressed Pickle |\n",
    "|:---:|:---:|:---:|\n",
    "|  load | -  | -71.3% slower |\n",
    "|  save |  - | -190.3% slower |\n",
    "|  size |  +34.9% larger | - |"
   ]
  }
 ],
 "metadata": {
  "kernelspec": {
   "display_name": "Python 3",
   "language": "python",
   "name": "python3"
  },
  "language_info": {
   "codemirror_mode": {
    "name": "ipython",
    "version": 3
   },
   "file_extension": ".py",
   "mimetype": "text/x-python",
   "name": "python",
   "nbconvert_exporter": "python",
   "pygments_lexer": "ipython3",
   "version": "3.7.2"
  }
 },
 "nbformat": 4,
 "nbformat_minor": 2
}
