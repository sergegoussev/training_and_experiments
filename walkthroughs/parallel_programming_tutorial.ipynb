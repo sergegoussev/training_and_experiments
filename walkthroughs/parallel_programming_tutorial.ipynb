{
 "cells": [
  {
   "cell_type": "markdown",
   "metadata": {},
   "source": [
    "# Multi-Threading and multi-processing in Python</h1>\n",
    "\n",
    "The *infamous* Python Global Interpreter Lock (GIL) means that you can only write synchronous (i.e. serial) programs — that operate one after the other. But you might often want to split your serial process and run a set of tasks in parallel. This tutorial will go over two types of common scenarios to set up parallel programming in Python:\n",
    "\n",
    "\n",
    "* **parallel computing** — parallelizing a set of identical or similar tasks--usually to speed up the efficiency of your script;\n",
    "* **asynchchonous programming** — you might want to create a master scripts that turns on slaves and creates a simple way to properly shut them off as needed--instead of using keyboard interrupt--a kind of asynchronous processing similar to event listeners in *JavaScript*.\n",
    "\n",
    "-----------------"
   ]
  },
  {
   "attachments": {},
   "cell_type": "markdown",
   "metadata": {},
   "source": [
    "### Master/slave approach\n",
    "The first method is to create a slave thread that does something, receiving objects from a master. Once objects end (i.e. a kill command is recevied), the slave ends automatically. \n",
    "\n",
    "Basically, a slave thread is initiated, and it runs forever as it operates through a while True loop. Once a 'quit' command is recevied however, it exists the loop and ends on its own accord. In essense, this example is superfulous -- all it does is moves execution to a slave thread, while the master waits as the GIL does not allow it do anything else at the same time.\n",
    "\n",
    "It basically works like this:\n",
    "![master_slave_processing.png](../imgs/master_slave_processing.png)"
   ]
  },
  {
   "cell_type": "code",
   "execution_count": 13,
   "metadata": {},
   "outputs": [
    {
     "name": "stdout",
     "output_type": "stream",
     "text": [
      "I'm the slave thread, received something at 12:35:45!!\n",
      "I'm the slave thread, received something at 12:35:46!!\n",
      "I'm the slave thread, received something at 12:35:47!!\n",
      "I'm the slave thread, received something at 12:35:48!!\n",
      "I'm the slave thread, received something at 12:35:49!!\n",
      "Bye byes!\n"
     ]
    }
   ],
   "source": [
    "import threading, time, datetime\n",
    "import queue\n",
    "\n",
    "class Slave_thread(threading.Thread):\n",
    "    '''\n",
    "    thread object, initiates a queue it expecs and the main run command\n",
    "    '''\n",
    "    def __init__(self, q):\n",
    "        threading.Thread.__init__(self)\n",
    "        self._q = q\n",
    "    \n",
    "    def run(self):\n",
    "        while True:\n",
    "            #runs forever unless a 'quit' command is received'\n",
    "            msg = self._q.get() \n",
    "            if isinstance(msg, str) and msg == 'quit':\n",
    "                break\n",
    "            print(\"I'm the slave thread, received something at {}!!\".format(msg))\n",
    "        print('Bye byes!')\n",
    "\n",
    "def Producer(num_seconds_to_run_slave):\n",
    "    '''\n",
    "    Producer module controls the slave as part of its work\n",
    "    '''\n",
    "    q = queue.Queue()\n",
    "    worker = Slave_thread(q)\n",
    "    worker.start() \n",
    "    \n",
    "    start_time = time.time() \n",
    "    while time.time() - start_time < num_seconds_to_run_slave:\n",
    "        #runs for 5 seconds, and inputs into the queue a string with the timestamp\n",
    "        q.put('%s' % datetime.datetime.fromtimestamp(time.time()).strftime('%X'))\n",
    "        time.sleep(1)\n",
    "    \n",
    "    q.put('quit')\n",
    "    worker.join()\n",
    "    \n",
    "if __name__ == '__main__':\n",
    "    Producer(5)\n"
   ]
  },
  {
   "cell_type": "markdown",
   "metadata": {},
   "source": [
    "## Asychronous programming\n",
    "\n",
    "Using multiprocessing, we can create multiple processes that depend on each other"
   ]
  },
  {
   "cell_type": "code",
   "execution_count": 48,
   "metadata": {},
   "outputs": [
    {
     "name": "stdout",
     "output_type": "stream",
     "text": [
      "Entered main...\n"
     ]
    }
   ],
   "source": [
    "import os\n",
    "\n",
    "from multiprocessing import Process, current_process\n",
    "\n",
    "def Slave(number):\n",
    "    '''\n",
    "    Slave process -- all it does is run and print the time\n",
    "    '''\n",
    "    proc_name = current_process().name\n",
    "    while True:\n",
    "        print(\"Slave processes {}, calculation done on... current time: {}\".format(\n",
    "            proc_name,\n",
    "            datetime.datetime.now().time()\n",
    "            ))\n",
    "        time.sleep(1)\n",
    "\n",
    "if __name__ == \"__main__\":    \n",
    "    print('Entered main...')\n",
    "    nums = [1,2,3,4]\n",
    "    \n",
    "    for index, number in enumerate(nums):\n",
    "        proc = Process(target=Slave, args=(number,)).start()\n",
    "        procs.append(proc)\n",
    "    \n"
   ]
  },
  {
   "cell_type": "code",
   "execution_count": null,
   "metadata": {},
   "outputs": [],
   "source": []
  }
 ],
 "metadata": {
  "kernelspec": {
   "display_name": "Python 3",
   "language": "python",
   "name": "python3"
  },
  "language_info": {
   "codemirror_mode": {
    "name": "ipython",
    "version": 3
   },
   "file_extension": ".py",
   "mimetype": "text/x-python",
   "name": "python",
   "nbconvert_exporter": "python",
   "pygments_lexer": "ipython3",
   "version": "3.5.4"
  }
 },
 "nbformat": 4,
 "nbformat_minor": 2
}
