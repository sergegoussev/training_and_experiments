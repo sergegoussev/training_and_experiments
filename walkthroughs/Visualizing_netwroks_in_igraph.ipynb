{
 "cells": [
  {
   "cell_type": "markdown",
   "metadata": {},
   "source": [
    "# Visualizing networks via igraph\n",
    "\n",
    "You've created a few networks, detected communities, and done some other basic analysis -- time to visualize the network and check if there are some discernable patterns! \n",
    "\n",
    "There are 2 ways that *networks/graphs* can be visualized: \n",
    "* use your python library of choise to export a **gml** file (or other formats), which you can open using a visualizing app of your choice ([**gephi**](https://gephi.org/) is one of the most popular among researchers); or\n",
    "* continue using python to create visuals using code!\n",
    "\n",
    "What's the difference? Well for one, the size of your network. If you are talking about a few thousand (or dozen thousand) nodes, and a few hundred thousand edges, apps work great! If you are talking about millions of data points though, these apps start to struggle. **Gephi** for instance recommends that you use their app for networks of [up to 100,000 nodes and 1M edges](https://gephi.org/features/) (although I've used it with graphs several times that recommendations, and the result was okay, it just took a long time)! \n",
    "\n",
    "In this tutorial, I will focus on how to use the python **igraph** library to create visualizations via code!\n",
    "\n",
    "**NOTE:** for this tutorial and for things to work, you need to have [**cairo**](https://www.cairographics.org/) installed along with **igraph**."
   ]
  },
  {
   "cell_type": "markdown",
   "metadata": {},
   "source": [
    "## 1. Example with random graph\n",
    "Before using real netorks assembled from Twitter data, lets auto generate a random graph to determine how visualizations work in theory:\n",
    "\n",
    "The **igraph** intro gives us one way to do this -- using random geometric graphs:\n",
    "> [**Graph.GRG()**](http://igraph.org/python/doc/tutorial/tutorial.html#generating-graphs) generates a geometric random graph: *n* points are chosen randomly and uniformly inside the unit square and pairs of points closer to each other than a predefined distance *d* are connected by an edge.\n",
    "\n",
    "As random regometric graphs *usually* represent behaviour typical of real life social networks, unlike Erdos-Renyi, they are quite appropriate to experiment with."
   ]
  },
  {
   "cell_type": "code",
   "execution_count": 1,
   "metadata": {},
   "outputs": [
    {
     "data": {
      "text/plain": [
       "'IGRAPH U--- 30 206 -- \\n+ attr: x (v), y (v)'"
      ]
     },
     "execution_count": 1,
     "metadata": {},
     "output_type": "execute_result"
    }
   ],
   "source": [
    "from igraph import *\n",
    "from datetime import datetime\n",
    "\n",
    "g = Graph.GRG(30, 0.5)\n",
    "g.summary()"
   ]
  },
  {
   "cell_type": "markdown",
   "metadata": {},
   "source": [
    "### Choosing the layout"
   ]
  },
  {
   "cell_type": "markdown",
   "metadata": {},
   "source": [
    "Now that we have a random graph, lets plot it! First we set up a [**layout**](http://igraph.org/python/doc/tutorial/tutorial.html#layout-algorithms) that we want to use, and then [**plot**](http://igraph.org/python/doc/tutorial/tutorial.html#drawing-a-graph-using-a-layout) the graph according to the layout we chose!"
   ]
  },
  {
   "cell_type": "code",
   "execution_count": 2,
   "metadata": {},
   "outputs": [
    {
     "name": "stdout",
     "output_type": "stream",
     "text": [
      "It took 0:00:00.006982 to generate the layout:\n"
     ]
    }
   ],
   "source": [
    "start = datetime.now()\n",
    "layout = g.layout_fruchterman_reingold() #choose layout\n",
    "plt = plot(g, layout=layout, bbox = (500, 300), margin = 20) #plot the graph with the layout\n",
    "#bbox specifies size of the image (horiontal, vertical), and margin specifies space around the image\n",
    "print(\"It took {} to generate the layout:\".format(datetime.now() - start)) #we will time the computer to see how long it takes\n",
    "# plt"
   ]
  },
  {
   "cell_type": "markdown",
   "metadata": {},
   "source": [
    "![network1.PNG](./imgs/network1.PNG)"
   ]
  },
  {
   "cell_type": "markdown",
   "metadata": {},
   "source": [
    "There are a few more [layouts to choose from](http://igraph.org/python/doc/tutorial/tutorial.html#layout-algorithms), for example a simple circle"
   ]
  },
  {
   "cell_type": "code",
   "execution_count": 6,
   "metadata": {},
   "outputs": [],
   "source": [
    "l = g.layout_circle()\n",
    "p = plot(g, layout=l, bbox = (300, 300), margin=20)\n",
    "# p"
   ]
  },
  {
   "cell_type": "markdown",
   "metadata": {},
   "source": [
    "![network2.PNG](./imgs/network2.PNG)"
   ]
  },
  {
   "cell_type": "markdown",
   "metadata": {},
   "source": [
    "You will notice that if you try any of the 3D layouts with the above code, python will err out. Unfortunately 3D visuals of netwoks require another renderer, **igraph** will not render them itself. I will cover it separately in another tutorial (WIP).\n",
    "\n",
    "So lets get to the next step, how to modify this rendering to add colors, spacing, node sizes, and all that other fun stuff\n",
    "\n",
    "-------------\n",
    "\n",
    "Firstly, we need to add a few features to our graph so that we can work with it:\n",
    "* `'community'` attribute - create a radom assignment of 0 to 2\n",
    "* `'size'` attribute - calculate the indegree of the node and assign that as a property "
   ]
  },
  {
   "cell_type": "code",
   "execution_count": 10,
   "metadata": {},
   "outputs": [
    {
     "data": {
      "text/plain": [
       "{'community': 1, 'size': 5, 'x': 0.01656078984057352, 'y': 0.23985952844660396}"
      ]
     },
     "execution_count": 10,
     "metadata": {},
     "output_type": "execute_result"
    }
   ],
   "source": [
    "import random #use python's random number generator\n",
    "\n",
    "#loop through all vertices\n",
    "for vertex in g.vs:\n",
    "    vertex['community'] = random.randint(0,2) #assign random community from 0 to 2\n",
    "    vertex['size'] = vertex.indegree()\n",
    "    \n",
    "#lets see what node 0 is like as an example:\n",
    "g.vs[0].attributes()"
   ]
  },
  {
   "cell_type": "markdown",
   "metadata": {},
   "source": [
    "Great! Now we have 2 new attributes to work with.\n",
    "\n",
    "### Adding color to nodes\n",
    "\n",
    "Lets add colors to the 3 communities we just created:"
   ]
  },
  {
   "cell_type": "code",
   "execution_count": 11,
   "metadata": {},
   "outputs": [],
   "source": [
    "#first create a dictionary that we will use to assign colors by community\n",
    "color_dict = {0: \"#0ec4ff\", 1: \"pink\", 2: \"yellow\"}\n",
    "g.vs[\"color\"] = [color_dict[community] for community in g.vs[\"community\"]]"
   ]
  },
  {
   "cell_type": "code",
   "execution_count": 14,
   "metadata": {},
   "outputs": [],
   "source": [
    "layout = g.layout_fruchterman_reingold()\n",
    "plt = plot(g, layout=layout, bbox = (500, 300), margin = 20)\n",
    "# plt"
   ]
  },
  {
   "cell_type": "markdown",
   "metadata": {},
   "source": [
    "![network3.PNG](./imgs/network3.PNG)"
   ]
  },
  {
   "cell_type": "markdown",
   "metadata": {},
   "source": [
    "That's getting better! You will notice that **plot** detected the attribute `'size'` and `'color'` automatically, so all we have to do is assign the required properties to these attributes. Lets change up the edge colors a bit too in order to add to the visual representation of *communities* \n",
    "\n",
    "We do this by checking the nodes connected by the edge -- if both are in the same community, then the color is of that communit. If they below the different communities, then the edge color is dictated by the node with the higher indegree. Hence:\n",
    "* use the `g.es[].tuple` property that gives the source and target node id as a tuple\n",
    "* assign color via a logical test: `if g.es[].tuple[0] == g.es[].tuple[1] then 'same color' else check_degrees(g.es[].tuple)`"
   ]
  },
  {
   "cell_type": "code",
   "execution_count": 15,
   "metadata": {},
   "outputs": [
    {
     "data": {
      "text/plain": [
       "igraph.Edge(<igraph.Graph object at 0x0000018923C1F6D8>, 0, {'color': 'yellow', 'curved': 0.2})"
      ]
     },
     "execution_count": 15,
     "metadata": {},
     "output_type": "execute_result"
    }
   ],
   "source": [
    "for edge in g.es:\n",
    "    tup = edge.tuple\n",
    "    edge['curved'] = 0.2 #lets also curve the links so that it looks better\n",
    "    if len(tup) == 2:\n",
    "        if tup[0] == tup[1]:\n",
    "            edge['color'] = color_dict[tup[0]]\n",
    "        else:\n",
    "            if g.vs[tup[0]].indegree() > g.vs[tup[1]].indegree():\n",
    "                edge['color'] = color_dict[g.vs[tup[0]]['community']]\n",
    "            elif g.vs[tup[0]].indegree() < g.vs[tup[1]].indegree():\n",
    "                edge['color'] = color_dict[g.vs[tup[1]]['community']]\n",
    "            else:\n",
    "                edge['color'] = 'black'\n",
    "\n",
    "#great, lets try to see if that worked with one node:\n",
    "g.es[0]"
   ]
  },
  {
   "cell_type": "markdown",
   "metadata": {},
   "source": [
    "Okay, lets see what that looks like"
   ]
  },
  {
   "cell_type": "code",
   "execution_count": 17,
   "metadata": {},
   "outputs": [
    {
     "name": "stdout",
     "output_type": "stream",
     "text": [
      "It took 0:00:00.005983 to generate the layout:\n"
     ]
    }
   ],
   "source": [
    "start = datetime.now()\n",
    "layout = g.layout_fruchterman_reingold()\n",
    "plt = plot(g, layout=layout, bbox = (500, 300), margin = 20)\n",
    "print(\"It took {} to generate the layout:\".format(datetime.now() - start))\n",
    "# plt"
   ]
  },
  {
   "cell_type": "markdown",
   "metadata": {},
   "source": [
    "<img src=\"https://gitlab.com/smdatalab/training_and_experiments/blob/master/imgs/network4.PNG\" width=\"800\" />"
   ]
  },
  {
   "cell_type": "markdown",
   "metadata": {},
   "source": [
    "Looking better, lets apply this to a real life example"
   ]
  },
  {
   "cell_type": "markdown",
   "metadata": {},
   "source": [
    "## Example: Dec 25, 2016 crash of Tu-154 with Alexandrov choir on board\n",
    "\n",
    "Lets try and appy the above setup to create a visualization of an actual network. An example sample is the crash of the Russian Tu-154 aircraft of December 25, 2016. The aircraft, which was carrying the Alexandrov Ensemble choir of the Russian Armed Forces as well as the well known humanitarian activist Elizaveta Glinka, [crashed into the Black sea, killing all on board](https://en.wikipedia.org/wiki/2016_Russian_Defence_Ministry_Tupolev_Tu-154_crash). This sample was collected using [Twitter's REST (Search) API](https://developer.twitter.com/en/docs/tweets/search/api-reference/get-search-tweets.html), with each node representing the Russian speaking accounts who discussed this crash -- in order to analyze the reaction in Russia to the event. "
   ]
  },
  {
   "cell_type": "code",
   "execution_count": null,
   "metadata": {},
   "outputs": [],
   "source": [
    "#use an actual specific graph -- small 4mb example, good size for experiments\n",
    "path = r\"F:\\Serge on HD\\Dropbox\\1.Research\\Research 3 - Kremlin Tweets (Online political discussions)\\R3-Online-Political-Discussions\\Analysis\\GML_networks\\Tu154_crash_REST_graph.gml\"\n",
    "g = Graph.Read_GML(path) \n",
    "g.summary()"
   ]
  },
  {
   "cell_type": "markdown",
   "metadata": {},
   "source": [
    "This example graph has 3,307 nodes and 83k edges, with a few attributes for each node -- such as `'im'` or the detected **infomap community**, as well as `'id'` or **twitter userid** of each user, and other attributes such as `'name'` and `'username'` (or **@handle**). "
   ]
  },
  {
   "cell_type": "markdown",
   "metadata": {},
   "source": [
    "Lets set up the colors as a separate function as it will be used throughout the script, and lets turn on all the bells and whistles we've used so far (including a few new ones):"
   ]
  },
  {
   "cell_type": "code",
   "execution_count": null,
   "metadata": {},
   "outputs": [],
   "source": [
    "def get_color(community):\n",
    "    \"\"\"\n",
    "    get_color() is a simple function to return the color for a node or edge \n",
    "    \"\"\"\n",
    "    color_dict = {\n",
    "        0: \"#df0eff\", #pro-gov\n",
    "        1: \"#0ec4ff\", #opposition\n",
    "        2: \"#4c463e\", #centrists\n",
    "        3: \"#73c400\" #youths\n",
    "    } \n",
    "    return color_dict[community] if community in color_dict else \"#aaa194\"\n",
    "\n",
    "def prepare_graph(g):\n",
    "    \"\"\"\n",
    "    prepare_graph() changes node and edge sizes and assigns color as chosen in the get_color() color dictionary\n",
    "    \"\"\"\n",
    "    nodes_to_delete = []\n",
    "    for vertex in g.vs:\n",
    "        if vertex.indegree() == 0:\n",
    "            nodes_to_delete.append(vertex.index)\n",
    "        else:\n",
    "            vertex['size'] = vertex.indegree()/100000\n",
    "            vertex['color'] = get_color(vertex['im'])\n",
    "    g.delete_vertices(nodes_to_delete)\n",
    "\n",
    "    for edge in g.es:\n",
    "        tup = edge.tuple\n",
    "        edge['size'] = 0.1\n",
    "        edge['arrow_size'] = None\n",
    "        edge['curved'] = 0.2\n",
    "        if len(tup) == 2:\n",
    "            if tup[0] == tup[1]:\n",
    "                edge['color'] = get_color(tup[0])\n",
    "            else:\n",
    "                if g.vs[tup[0]].indegree() > g.vs[tup[1]].indegree():\n",
    "                    edge['color'] = get_color(g.vs[tup[0]]['im'])\n",
    "                elif g.vs[tup[0]].indegree() < g.vs[tup[1]].indegree():\n",
    "                    edge['color'] = get_color(g.vs[tup[1]]['im'])\n",
    "                else:\n",
    "                    edge['color'] = 'black'\n",
    "    return g\n",
    "    \n",
    "g = prepare_graph(g)"
   ]
  },
  {
   "cell_type": "markdown",
   "metadata": {},
   "source": [
    "Okay, now that the properties required are set up, lets display it!"
   ]
  },
  {
   "cell_type": "code",
   "execution_count": null,
   "metadata": {},
   "outputs": [],
   "source": [
    "start = datetime.now()\n",
    "layout = g.layout_fruchterman_reingold()\n",
    "plt = plot(g, \"Tu-154_crash_igraph.pdf\", layout=layout, bbox = (500, 300), margin = 20)\n",
    "print(\"It took {} to generate the layout:\".format(datetime.now() - start))"
   ]
  },
  {
   "cell_type": "markdown",
   "metadata": {},
   "source": [
    "Above we generated the plot, assigned the value to the `plt` variable, and exported it as a pdf. Lets now generate to see what it looks like:"
   ]
  },
  {
   "cell_type": "code",
   "execution_count": null,
   "metadata": {},
   "outputs": [],
   "source": []
  }
 ],
 "metadata": {
  "kernelspec": {
   "display_name": "Python 3",
   "language": "python",
   "name": "python3"
  },
  "language_info": {
   "codemirror_mode": {
    "name": "ipython",
    "version": 3
   },
   "file_extension": ".py",
   "mimetype": "text/x-python",
   "name": "python",
   "nbconvert_exporter": "python",
   "pygments_lexer": "ipython3",
   "version": "3.5.4"
  }
 },
 "nbformat": 4,
 "nbformat_minor": 2
}
